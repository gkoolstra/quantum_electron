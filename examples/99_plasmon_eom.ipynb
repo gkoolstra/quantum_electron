{
 "cells": [
  {
   "cell_type": "code",
   "execution_count": 186,
   "metadata": {},
   "outputs": [],
   "source": [
    "import sympy as sp\n",
    "from sympy import diff, sin, cos, exp, sqrt, Rational"
   ]
  },
  {
   "cell_type": "code",
   "execution_count": 168,
   "metadata": {},
   "outputs": [],
   "source": [
    "xij, yij, dxij, dyij, rij, θij = sp.symbols('x_{ij} y_{ij} δx_{ij}, δy_{ij}, r_{ij} θ_{ij}')\n",
    "me, e, t, eps0, pi = sp.symbols('m_e e t ε_0 π')"
   ]
  },
  {
   "cell_type": "markdown",
   "metadata": {},
   "source": [
    "In this notebook we'll use `sympy` to do some of the heavy lifting in determining the equations of motion. The equations of motion are derived in https://journals.aps.org/prx/supplemental/10.1103/PhysRevX.6.011031/supplement.pdf , but some of the math-heavy steps are missing. Those steps are shown in the following two sections."
   ]
  },
  {
   "cell_type": "markdown",
   "metadata": {},
   "source": [
    "# Linearization of $F_x$ for the EOM in $\\delta x_i$"
   ]
  },
  {
   "cell_type": "markdown",
   "metadata": {},
   "source": [
    "A crucial part of the equations of motion is the electron-electron interaction term. For the perturbation in the coordinate $x_i$ we need to linearize the electron-electron interaction force in the x-direction. This force is given by `F_x` and is also written as Eq. (S15) in the link above.\n",
    "\n",
    "We will use the notation $\\delta x_{ij} = \\delta x_i - \\delta x_j$, $\\delta y_{ij} = \\delta y_i - \\delta y_j$ and $r_{ij}^2 = (x_i - x_j)^2 + (y_i - y_j)^2$.\n",
    "\n",
    "After setting $x_i \\mapsto x_i + \\delta x_i$ and $y_i \\mapsto y_i + \\delta y_i$ we arrive at the following expression for $(x_i - x_j) / |r_i - r_j|^3$"
   ]
  },
  {
   "cell_type": "code",
   "execution_count": 252,
   "metadata": {},
   "outputs": [
    {
     "data": {
      "text/latex": [
       "$\\displaystyle \\frac{r_{ij} \\cos{\\left(θ_{ij} \\right)} + δx_{ij}}{r_{ij}^{3} \\left(\\left(1 + \\frac{δx_{ij}}{r_{ij} \\cos{\\left(θ_{ij} \\right)}}\\right)^{2} \\cos^{2}{\\left(θ_{ij} \\right)} + \\left(1 + \\frac{δy_{ij}}{r_{ij} \\sin{\\left(θ_{ij} \\right)}}\\right)^{2} \\sin^{2}{\\left(θ_{ij} \\right)}\\right)^{\\frac{3}{2}}}$"
      ],
      "text/plain": [
       "(r_{ij}*cos(θ_{ij}) + δx_{ij})/(r_{ij}**3*((1 + δx_{ij}/(r_{ij}*cos(θ_{ij})))**2*cos(θ_{ij})**2 + (1 + δy_{ij}/(r_{ij}*sin(θ_{ij})))**2*sin(θ_{ij})**2)**(3/2))"
      ]
     },
     "execution_count": 252,
     "metadata": {},
     "output_type": "execute_result"
    }
   ],
   "source": [
    "Fx = (rij * cos(θij) + dxij) / (rij ** 3 * (cos(θij) ** 2 * (1 + dxij/(rij * cos(θij))) ** 2 + sin(θij) ** 2 * (1 + dyij/(rij * sin(θij))) ** 2 ) ** (Rational(3,2)))\n",
    "Fx"
   ]
  },
  {
   "cell_type": "markdown",
   "metadata": {},
   "source": [
    "To linearize we use the Taylor expansion around the equilibrium coordinates ($\\delta x_i = 0, \\delta y_i =0$)\n",
    "$$ \n",
    "F_x \\approx F_x (\\delta x_i = 0, \\delta y_i =0) + \\frac{\\partial F_x}{\\partial \\delta x_i} (\\delta x_i = 0, \\delta y_i =0) \\delta x_i + \\frac{\\partial F_x}{\\partial \\delta y_i} (\\delta x_i = 0, \\delta y_i =0) \\delta y_i\n",
    "$$\n",
    "\n",
    "The first term is simply setting $\\delta x_i = 0, \\delta y_i =0$, which is done with `subs`:"
   ]
  },
  {
   "cell_type": "code",
   "execution_count": 192,
   "metadata": {},
   "outputs": [
    {
     "data": {
      "text/latex": [
       "$\\displaystyle \\frac{\\cos{\\left(θ_{ij} \\right)}}{r_{ij}^{2}}$"
      ],
      "text/plain": [
       "cos(θ_{ij})/r_{ij}**2"
      ]
     },
     "execution_count": 192,
     "metadata": {},
     "output_type": "execute_result"
    }
   ],
   "source": [
    "first_term = Fx.subs(dxij, 0).subs(dyij, 0).simplify()\n",
    "first_term "
   ]
  },
  {
   "cell_type": "markdown",
   "metadata": {},
   "source": [
    "However, note that the first term won't contribute to the EOM for $\\delta x_i$ or $\\delta y_i$. For the last two terms we need to differentiate $F_x$ w.r.t. $\\delta x_i$ and $\\delta y_i$, respectively"
   ]
  },
  {
   "cell_type": "code",
   "execution_count": 193,
   "metadata": {},
   "outputs": [
    {
     "data": {
      "text/latex": [
       "$\\displaystyle \\frac{- \\frac{3 \\cos{\\left(2 θ_{ij} \\right)}}{2} - \\frac{1}{2}}{r_{ij}^{3}}$"
      ],
      "text/plain": [
       "(-3*cos(2*θ_{ij})/2 - 1/2)/r_{ij}**3"
      ]
     },
     "execution_count": 193,
     "metadata": {},
     "output_type": "execute_result"
    }
   ],
   "source": [
    "linear_term_x = diff(Fx, dxij).subs(dxij, 0).subs(dyij, 0).simplify()\n",
    "linear_term_x = linear_term_x.subs(sin(θij)**2, Rational(1, 2) - Rational(1 ,2) * cos(2*θij))\n",
    "linear_term_x"
   ]
  },
  {
   "cell_type": "markdown",
   "metadata": {},
   "source": [
    "And differentiating with respect to $\\delta y_{ij}$ gives"
   ]
  },
  {
   "cell_type": "code",
   "execution_count": 194,
   "metadata": {},
   "outputs": [
    {
     "data": {
      "text/latex": [
       "$\\displaystyle - \\frac{3 \\sin{\\left(2 θ_{ij} \\right)}}{2 r_{ij}^{3}}$"
      ],
      "text/plain": [
       "-3*sin(2*θ_{ij})/(2*r_{ij}**3)"
      ]
     },
     "execution_count": 194,
     "metadata": {},
     "output_type": "execute_result"
    }
   ],
   "source": [
    "linear_term_y = diff(Fx, dyij).subs(dxij, 0).subs(dyij, 0).simplify()\n",
    "linear_term_y"
   ]
  },
  {
   "cell_type": "markdown",
   "metadata": {},
   "source": [
    "To summarize, we've now obtained the electron-electron interaction term $(x_i-x_j) / |r_i - r_j|^3$, which is given by the expression below:"
   ]
  },
  {
   "cell_type": "code",
   "execution_count": 208,
   "metadata": {},
   "outputs": [
    {
     "data": {
      "text/latex": [
       "$\\displaystyle \\frac{2 r_{ij} \\cos{\\left(θ_{ij} \\right)} + δx_{ij} \\left(- 3 \\cos{\\left(2 θ_{ij} \\right)} - 1\\right) - 3 δy_{ij} \\sin{\\left(2 θ_{ij} \\right)}}{2 r_{ij}^{3}}$"
      ],
      "text/plain": [
       "(2*r_{ij}*cos(θ_{ij}) + δx_{ij}*(-3*cos(2*θ_{ij}) - 1) - 3*δy_{ij}*sin(2*θ_{ij}))/(2*r_{ij}**3)"
      ]
     },
     "execution_count": 208,
     "metadata": {},
     "output_type": "execute_result"
    }
   ],
   "source": [
    "( first_term + linear_term_x * dxij + linear_term_y * dyij ).factor(dxij)"
   ]
  },
  {
   "cell_type": "markdown",
   "metadata": {},
   "source": [
    "The first term won't contribute to the equations of motion, but the last two terms proportional to $\\delta x_{ij}$ and $\\delta y_{ij}$ will."
   ]
  },
  {
   "cell_type": "markdown",
   "metadata": {},
   "source": [
    "We can start to recognize $k_{ij}^+$ as the term proportional to $\\delta x_{ij}$ and similarly $l_{ij}$ as the term proportional to $\\delta y_{ij}$.\n",
    "Note that we omitted $e^2 / 4\\pi \\varepsilon_0$ and a factor of $1/2$ from double counting. Taking these prefactors into account will give an exact comparison."
   ]
  },
  {
   "cell_type": "markdown",
   "metadata": {},
   "source": [
    "# Linearization of $F_y$ for the EOM in $\\delta y_i$"
   ]
  },
  {
   "cell_type": "markdown",
   "metadata": {},
   "source": [
    "The equation of motion for the coordinate $y_i$ contains the term $(y_i - y_j) / |r_i - r_j|^3$. We'll follow a similar procedure as above"
   ]
  },
  {
   "cell_type": "code",
   "execution_count": 254,
   "metadata": {},
   "outputs": [
    {
     "data": {
      "text/latex": [
       "$\\displaystyle \\frac{r_{ij} \\sin{\\left(θ_{ij} \\right)} + δy_{ij}}{r_{ij}^{3} \\left(\\left(1 + \\frac{δx_{ij}}{r_{ij} \\cos{\\left(θ_{ij} \\right)}}\\right)^{2} \\cos^{2}{\\left(θ_{ij} \\right)} + \\left(1 + \\frac{δy_{ij}}{r_{ij} \\sin{\\left(θ_{ij} \\right)}}\\right)^{2} \\sin^{2}{\\left(θ_{ij} \\right)}\\right)^{\\frac{3}{2}}}$"
      ],
      "text/plain": [
       "(r_{ij}*sin(θ_{ij}) + δy_{ij})/(r_{ij}**3*((1 + δx_{ij}/(r_{ij}*cos(θ_{ij})))**2*cos(θ_{ij})**2 + (1 + δy_{ij}/(r_{ij}*sin(θ_{ij})))**2*sin(θ_{ij})**2)**(3/2))"
      ]
     },
     "execution_count": 254,
     "metadata": {},
     "output_type": "execute_result"
    }
   ],
   "source": [
    "Fy = (rij * sin(θij) + dyij) / (rij ** 3 * (cos(θij) ** 2 * (1 + dxij/(rij * cos(θij))) ** 2 + sin(θij) ** 2 * (1 + dyij/(rij * sin(θij))) ** 2 ) ** (Rational(3, 2)))\n",
    "Fy"
   ]
  },
  {
   "cell_type": "markdown",
   "metadata": {},
   "source": [
    "To linearize this term we write \n",
    "$$ \n",
    "F_y \\approx F_y (\\delta x_i = 0, \\delta y_i =0) + \\frac{\\partial F_y}{\\partial \\delta x_i} (\\delta x_i = 0, \\delta y_i =0) \\delta x_i + \\frac{\\partial F_y}{\\partial \\delta y_i} (\\delta x_i = 0, \\delta y_i =0) \\delta y_i\n",
    "$$\n",
    "\n",
    "Again, we start with the term that won't contribute to the equations of motion."
   ]
  },
  {
   "cell_type": "code",
   "execution_count": 255,
   "metadata": {},
   "outputs": [
    {
     "data": {
      "text/latex": [
       "$\\displaystyle \\frac{\\sin{\\left(θ_{ij} \\right)}}{r_{ij}^{2}}$"
      ],
      "text/plain": [
       "sin(θ_{ij})/r_{ij}**2"
      ]
     },
     "execution_count": 255,
     "metadata": {},
     "output_type": "execute_result"
    }
   ],
   "source": [
    "first_term = Fy.subs(dxij, 0).subs(dyij, 0).simplify()\n",
    "first_term "
   ]
  },
  {
   "cell_type": "markdown",
   "metadata": {},
   "source": [
    "Here is the term proportional to $\\delta x_{ij}$"
   ]
  },
  {
   "cell_type": "code",
   "execution_count": 256,
   "metadata": {},
   "outputs": [
    {
     "data": {
      "text/latex": [
       "$\\displaystyle - \\frac{3 \\sin{\\left(2 θ_{ij} \\right)}}{2 r_{ij}^{3}}$"
      ],
      "text/plain": [
       "-3*sin(2*θ_{ij})/(2*r_{ij}**3)"
      ]
     },
     "execution_count": 256,
     "metadata": {},
     "output_type": "execute_result"
    }
   ],
   "source": [
    "linear_term_x = diff(Fy, dxij).subs(dxij, 0).subs(dyij, 0).simplify()\n",
    "linear_term_x"
   ]
  },
  {
   "cell_type": "markdown",
   "metadata": {},
   "source": [
    "and proportional to $\\delta y_{ij}$"
   ]
  },
  {
   "cell_type": "code",
   "execution_count": 257,
   "metadata": {},
   "outputs": [
    {
     "data": {
      "text/latex": [
       "$\\displaystyle \\frac{\\frac{3 \\cos{\\left(2 θ_{ij} \\right)}}{2} - \\frac{1}{2}}{r_{ij}^{3}}$"
      ],
      "text/plain": [
       "(3*cos(2*θ_{ij})/2 - 1/2)/r_{ij}**3"
      ]
     },
     "execution_count": 257,
     "metadata": {},
     "output_type": "execute_result"
    }
   ],
   "source": [
    "linear_term_y = diff(Fy, dyij).subs(dxij, 0).subs(dyij, 0).simplify()\n",
    "linear_term_y = linear_term_y.subs(sin(θij)**2, Rational(1, 2) - Rational(1, 2) * cos(2*θij))\n",
    "linear_term_y"
   ]
  },
  {
   "cell_type": "markdown",
   "metadata": {},
   "source": [
    "To summarize: the electron-electron interaction term for the $y$ EOM is given by $(y_i - y_j) / |r_i - r_j|^3$ and the linearized result is"
   ]
  },
  {
   "cell_type": "code",
   "execution_count": 215,
   "metadata": {},
   "outputs": [
    {
     "data": {
      "text/latex": [
       "$\\displaystyle \\frac{\\sin{\\left(θ_{ij} \\right)}}{r_{ij}^{2}} - \\frac{3 δx_{ij} \\sin{\\left(2 θ_{ij} \\right)}}{2 r_{ij}^{3}} + \\frac{δy_{ij} \\left(\\frac{3 \\cos{\\left(2 θ_{ij} \\right)}}{2} - \\frac{1}{2}\\right)}{r_{ij}^{3}}$"
      ],
      "text/plain": [
       "sin(θ_{ij})/r_{ij}**2 - 3*δx_{ij}*sin(2*θ_{ij})/(2*r_{ij}**3) + δy_{ij}*(3*cos(2*θ_{ij})/2 - 1/2)/r_{ij}**3"
      ]
     },
     "execution_count": 215,
     "metadata": {},
     "output_type": "execute_result"
    }
   ],
   "source": [
    "first_term + linear_term_x * dxij + linear_term_y * dyij"
   ]
  },
  {
   "cell_type": "markdown",
   "metadata": {},
   "source": [
    "We can start to recognize $k_{ij}^-$ as the term proportional to $\\delta y_{ij}$ and similarly $l_{ij}$ as the term proportional to $\\delta x_{ij}$.\n",
    "Note that we omitted $e^2 / 4\\pi \\varepsilon_0$ and a factor of $1/2$ from double counting. Taking these prefactors into account will give an exact comparison."
   ]
  },
  {
   "cell_type": "markdown",
   "metadata": {},
   "source": [
    "# Including the effects of screening"
   ]
  },
  {
   "cell_type": "markdown",
   "metadata": {},
   "source": [
    "If we include screening, the regular Coulomb potential can be modified to a Yukawa potential\n",
    "\n",
    "$$\n",
    "U = \\frac{e^{-r/\\lambda}}{r}\n",
    "$$\n",
    "where $\\lambda$ is the interaction cutoff length. We may repeat the previous sections to obtain the versions of $k_{ij}^\\pm$ and $l_{ij}$ that include screening. These should be compared to Eqs. C.3 and C.4 in https://schusterlab.stanford.edu/static/pdfs/Koolstra_thesis.pdf Let's get started by figuring out the forces in the $x$ and $y$ direction."
   ]
  },
  {
   "cell_type": "markdown",
   "metadata": {},
   "source": [
    "## Force in the $x$ direction"
   ]
  },
  {
   "cell_type": "markdown",
   "metadata": {},
   "source": [
    "Finding the force requires differentiating the potential. Because $r$ appears in the exponent and also in the denominator, it is not as straightforward. By hand, we would apply the chain rule. `sympy` doesn't care and will do it for you:"
   ]
  },
  {
   "cell_type": "code",
   "execution_count": 259,
   "metadata": {},
   "outputs": [
    {
     "data": {
      "text/latex": [
       "$\\displaystyle \\frac{x_{ij} \\left(- r_{ij} - λ\\right) e^{- \\frac{r_{ij}}{λ}}}{r_{ij}^{3} λ}$"
      ],
      "text/plain": [
       "x_{ij}*(-r_{ij} - λ)*exp(-r_{ij}/λ)/(r_{ij}**3*λ)"
      ]
     },
     "execution_count": 259,
     "metadata": {},
     "output_type": "execute_result"
    }
   ],
   "source": [
    "rxy = sqrt(xij**2 + yij**2)\n",
    "lamb = sp.symbols('λ')\n",
    "xi = sp.symbols('ξ')\n",
    "\n",
    "U = 1 / rxy * exp(-rxy / lamb)\n",
    "Fx = diff(U, xij).simplify().subs(sqrt(xij**2 + yij**2), rij)\n",
    "Fx"
   ]
  },
  {
   "cell_type": "code",
   "execution_count": 260,
   "metadata": {},
   "outputs": [
    {
     "data": {
      "text/latex": [
       "$\\displaystyle \\frac{\\left(x_{ij} + δx_{ij}\\right) \\left(- r_{ij} \\sqrt{\\left(1 + \\frac{δx_{ij}}{r_{ij} \\cos{\\left(θ_{ij} \\right)}}\\right)^{2} \\cos^{2}{\\left(θ_{ij} \\right)} + \\left(1 + \\frac{δy_{ij}}{r_{ij} \\sin{\\left(θ_{ij} \\right)}}\\right)^{2} \\sin^{2}{\\left(θ_{ij} \\right)}} - λ\\right) e^{- \\frac{r_{ij} \\sqrt{\\left(1 + \\frac{δx_{ij}}{r_{ij} \\cos{\\left(θ_{ij} \\right)}}\\right)^{2} \\cos^{2}{\\left(θ_{ij} \\right)} + \\left(1 + \\frac{δy_{ij}}{r_{ij} \\sin{\\left(θ_{ij} \\right)}}\\right)^{2} \\sin^{2}{\\left(θ_{ij} \\right)}}}{λ}}}{r_{ij}^{3} λ \\left(\\left(1 + \\frac{δx_{ij}}{r_{ij} \\cos{\\left(θ_{ij} \\right)}}\\right)^{2} \\cos^{2}{\\left(θ_{ij} \\right)} + \\left(1 + \\frac{δy_{ij}}{r_{ij} \\sin{\\left(θ_{ij} \\right)}}\\right)^{2} \\sin^{2}{\\left(θ_{ij} \\right)}\\right)^{\\frac{3}{2}}}$"
      ],
      "text/plain": [
       "(x_{ij} + δx_{ij})*(-r_{ij}*sqrt((1 + δx_{ij}/(r_{ij}*cos(θ_{ij})))**2*cos(θ_{ij})**2 + (1 + δy_{ij}/(r_{ij}*sin(θ_{ij})))**2*sin(θ_{ij})**2) - λ)*exp(-r_{ij}*sqrt((1 + δx_{ij}/(r_{ij}*cos(θ_{ij})))**2*cos(θ_{ij})**2 + (1 + δy_{ij}/(r_{ij}*sin(θ_{ij})))**2*sin(θ_{ij})**2)/λ)/(r_{ij}**3*λ*((1 + δx_{ij}/(r_{ij}*cos(θ_{ij})))**2*cos(θ_{ij})**2 + (1 + δy_{ij}/(r_{ij}*sin(θ_{ij})))**2*sin(θ_{ij})**2)**(3/2))"
      ]
     },
     "execution_count": 260,
     "metadata": {},
     "output_type": "execute_result"
    }
   ],
   "source": [
    "linearized_rij = rij * sqrt(cos(θij) ** 2 * (1 + dxij/(rij * cos(θij))) ** 2 + sin(θij) ** 2 * (1 + dyij/(rij * sin(θij))) ** 2 )\n",
    "linearized_Fx = Fx.subs(xij, xij + dxij).subs(rij, linearized_rij)\n",
    "linearized_Fx"
   ]
  },
  {
   "cell_type": "markdown",
   "metadata": {},
   "source": [
    "The resulting expressions start to grow, but let's not fear yet. Things will look better. "
   ]
  },
  {
   "cell_type": "code",
   "execution_count": 246,
   "metadata": {},
   "outputs": [
    {
     "data": {
      "text/latex": [
       "$\\displaystyle - \\frac{\\left(r_{ij} \\sqrt{\\frac{\\left(r_{ij} \\sin{\\left(θ_{ij} \\right)} + δy_{ij}\\right)^{2} + \\left(r_{ij} \\cos{\\left(θ_{ij} \\right)} + δx_{ij}\\right)^{2}}{r_{ij}^{2}}} + λ\\right) \\left(r_{ij} \\cos{\\left(θ_{ij} \\right)} + δx_{ij}\\right) e^{- \\frac{r_{ij} \\sqrt{\\frac{\\left(r_{ij} \\sin{\\left(θ_{ij} \\right)} + δy_{ij}\\right)^{2} + \\left(r_{ij} \\cos{\\left(θ_{ij} \\right)} + δx_{ij}\\right)^{2}}{r_{ij}^{2}}}}{λ}}}{r_{ij}^{3} λ \\left(\\frac{\\left(r_{ij} \\sin{\\left(θ_{ij} \\right)} + δy_{ij}\\right)^{2} + \\left(r_{ij} \\cos{\\left(θ_{ij} \\right)} + δx_{ij}\\right)^{2}}{r_{ij}^{2}}\\right)^{\\frac{3}{2}}}$"
      ],
      "text/plain": [
       "-(r_{ij}*sqrt(((r_{ij}*sin(θ_{ij}) + δy_{ij})**2 + (r_{ij}*cos(θ_{ij}) + δx_{ij})**2)/r_{ij}**2) + λ)*(r_{ij}*cos(θ_{ij}) + δx_{ij})*exp(-r_{ij}*sqrt(((r_{ij}*sin(θ_{ij}) + δy_{ij})**2 + (r_{ij}*cos(θ_{ij}) + δx_{ij})**2)/r_{ij}**2)/λ)/(r_{ij}**3*λ*(((r_{ij}*sin(θ_{ij}) + δy_{ij})**2 + (r_{ij}*cos(θ_{ij}) + δx_{ij})**2)/r_{ij}**2)**(3/2))"
      ]
     },
     "execution_count": 246,
     "metadata": {},
     "output_type": "execute_result"
    }
   ],
   "source": [
    "linearized_Fx = linearized_Fx.subs(xij, rij * cos(θij)).subs(yij, rij * sin(θij)).simplify()\n",
    "linearized_Fx"
   ]
  },
  {
   "cell_type": "markdown",
   "metadata": {},
   "source": [
    "Things will start to look more compact by using the substitution $\\xi = r_{ij} / \\lambda$. The first term in the Taylor expansion of the force is:"
   ]
  },
  {
   "cell_type": "code",
   "execution_count": 247,
   "metadata": {},
   "outputs": [
    {
     "data": {
      "text/latex": [
       "$\\displaystyle - \\frac{\\left(ξ + 1\\right) e^{- ξ} \\cos{\\left(θ_{ij} \\right)}}{r_{ij}^{2}}$"
      ],
      "text/plain": [
       "-(ξ + 1)*exp(-ξ)*cos(θ_{ij})/r_{ij}**2"
      ]
     },
     "execution_count": 247,
     "metadata": {},
     "output_type": "execute_result"
    }
   ],
   "source": [
    "first_term = linearized_Fx.subs(dxij, 0).subs(dyij, 0).simplify()\n",
    "first_term.subs(lamb, rij / xi).simplify()"
   ]
  },
  {
   "cell_type": "markdown",
   "metadata": {},
   "source": [
    "The term that is proportional to $\\delta x_{ij}$ is found by differentiating w.r.t. $\\delta x_{ij}$:"
   ]
  },
  {
   "cell_type": "code",
   "execution_count": 248,
   "metadata": {},
   "outputs": [
    {
     "data": {
      "text/latex": [
       "$\\displaystyle \\frac{\\left(ξ^{2} \\left(\\frac{\\cos{\\left(2 θ_{ij} \\right)}}{2} + \\frac{1}{2}\\right) + ξ \\left(\\frac{3 \\cos{\\left(2 θ_{ij} \\right)}}{2} + \\frac{1}{2}\\right) + \\frac{3 \\cos{\\left(2 θ_{ij} \\right)}}{2} + \\frac{1}{2}\\right) e^{- ξ}}{r_{ij}^{3}}$"
      ],
      "text/plain": [
       "(ξ**2*(cos(2*θ_{ij})/2 + 1/2) + ξ*(3*cos(2*θ_{ij})/2 + 1/2) + 3*cos(2*θ_{ij})/2 + 1/2)*exp(-ξ)/r_{ij}**3"
      ]
     },
     "execution_count": 248,
     "metadata": {},
     "output_type": "execute_result"
    }
   ],
   "source": [
    "linear_term_x = diff(linearized_Fx, dxij).subs(dxij, 0).subs(dyij, 0).simplify()\n",
    "linear_term_x = linear_term_x.subs(lamb, rij / xi).simplify().subs(cos(θij)**2, Rational(1, 2) + Rational(1, 2) * cos(2*θij))\n",
    "linear_term_x"
   ]
  },
  {
   "cell_type": "markdown",
   "metadata": {},
   "source": [
    "The term that is proportional to $\\delta y_{ij}$ is found by differentiating w.r.t. $\\delta y_{ij}$:"
   ]
  },
  {
   "cell_type": "code",
   "execution_count": 249,
   "metadata": {},
   "outputs": [
    {
     "data": {
      "text/latex": [
       "$\\displaystyle \\frac{\\left(ξ^{2} + 3 ξ + 3\\right) e^{- ξ} \\sin{\\left(2 θ_{ij} \\right)}}{2 r_{ij}^{3}}$"
      ],
      "text/plain": [
       "(ξ**2 + 3*ξ + 3)*exp(-ξ)*sin(2*θ_{ij})/(2*r_{ij}**3)"
      ]
     },
     "execution_count": 249,
     "metadata": {},
     "output_type": "execute_result"
    }
   ],
   "source": [
    "linear_term_y = diff(linearized_Fx, dyij).subs(dxij, 0).subs(dyij, 0).simplify()\n",
    "linear_term_y = linear_term_y.subs(lamb, rij / xi).simplify().subs(cos(θij)**2, Rational(1, 2) + Rational(1, 2) * cos(2*θij))\n",
    "linear_term_y"
   ]
  },
  {
   "cell_type": "markdown",
   "metadata": {},
   "source": [
    "The final result below should be checked with $k_{ij}^+$ and $l_{ij}$ in C.3 and C.4 in https://schusterlab.stanford.edu/static/pdfs/Koolstra_thesis.pdf You can actually see there is a small error in C4!"
   ]
  },
  {
   "cell_type": "code",
   "execution_count": 251,
   "metadata": {},
   "outputs": [
    {
     "data": {
      "text/latex": [
       "$\\displaystyle \\frac{\\left(δx_{ij} \\left(ξ^{2} \\cos{\\left(2 θ_{ij} \\right)} + ξ^{2} + 3 ξ \\cos{\\left(2 θ_{ij} \\right)} + ξ + 3 \\cos{\\left(2 θ_{ij} \\right)} + 1\\right) + δy_{ij} \\left(ξ^{2} \\sin{\\left(2 θ_{ij} \\right)} + 3 ξ \\sin{\\left(2 θ_{ij} \\right)} + 3 \\sin{\\left(2 θ_{ij} \\right)}\\right)\\right) e^{- ξ}}{2 r_{ij}^{3}}$"
      ],
      "text/plain": [
       "(δx_{ij}*(ξ**2*cos(2*θ_{ij}) + ξ**2 + 3*ξ*cos(2*θ_{ij}) + ξ + 3*cos(2*θ_{ij}) + 1) + δy_{ij}*(ξ**2*sin(2*θ_{ij}) + 3*ξ*sin(2*θ_{ij}) + 3*sin(2*θ_{ij})))*exp(-ξ)/(2*r_{ij}**3)"
      ]
     },
     "execution_count": 251,
     "metadata": {},
     "output_type": "execute_result"
    }
   ],
   "source": [
    "(linear_term_x * dxij + linear_term_y * dyij).factor(dxij, dyij)"
   ]
  },
  {
   "cell_type": "markdown",
   "metadata": {},
   "source": [
    "## Force in the $y$-direction"
   ]
  },
  {
   "cell_type": "markdown",
   "metadata": {},
   "source": [
    "You know the drill by know. First differentiate the potential energy (electron-electron interaction) w.r.t. $y_{ij}$ to find $F_y$ that corresponds to the Yukawa potential:"
   ]
  },
  {
   "cell_type": "code",
   "execution_count": 227,
   "metadata": {},
   "outputs": [
    {
     "data": {
      "text/latex": [
       "$\\displaystyle \\frac{y_{ij} \\left(- r_{ij} - λ\\right) e^{- \\frac{r_{ij}}{λ}}}{r_{ij}^{3} λ}$"
      ],
      "text/plain": [
       "y_{ij}*(-r_{ij} - λ)*exp(-r_{ij}/λ)/(r_{ij}**3*λ)"
      ]
     },
     "execution_count": 227,
     "metadata": {},
     "output_type": "execute_result"
    }
   ],
   "source": [
    "Fy = diff(U, yij).simplify().subs(sqrt(xij**2 + yij**2), rij)\n",
    "Fy"
   ]
  },
  {
   "cell_type": "markdown",
   "metadata": {},
   "source": [
    "Perturb:"
   ]
  },
  {
   "cell_type": "code",
   "execution_count": 228,
   "metadata": {},
   "outputs": [
    {
     "data": {
      "text/latex": [
       "$\\displaystyle \\frac{\\left(y_{ij} + δy_{ij}\\right) \\left(- r_{ij} \\sqrt{\\left(1 + \\frac{δx_{ij}}{r_{ij} \\cos{\\left(θ_{ij} \\right)}}\\right)^{2} \\cos^{2}{\\left(θ_{ij} \\right)} + \\left(1 + \\frac{δy_{ij}}{r_{ij} \\sin{\\left(θ_{ij} \\right)}}\\right)^{2} \\sin^{2}{\\left(θ_{ij} \\right)}} - λ\\right) e^{- \\frac{r_{ij} \\sqrt{\\left(1 + \\frac{δx_{ij}}{r_{ij} \\cos{\\left(θ_{ij} \\right)}}\\right)^{2} \\cos^{2}{\\left(θ_{ij} \\right)} + \\left(1 + \\frac{δy_{ij}}{r_{ij} \\sin{\\left(θ_{ij} \\right)}}\\right)^{2} \\sin^{2}{\\left(θ_{ij} \\right)}}}{λ}}}{r_{ij}^{3} λ \\left(\\left(1 + \\frac{δx_{ij}}{r_{ij} \\cos{\\left(θ_{ij} \\right)}}\\right)^{2} \\cos^{2}{\\left(θ_{ij} \\right)} + \\left(1 + \\frac{δy_{ij}}{r_{ij} \\sin{\\left(θ_{ij} \\right)}}\\right)^{2} \\sin^{2}{\\left(θ_{ij} \\right)}\\right)^{\\frac{3}{2}}}$"
      ],
      "text/plain": [
       "(y_{ij} + δy_{ij})*(-r_{ij}*sqrt((1 + δx_{ij}/(r_{ij}*cos(θ_{ij})))**2*cos(θ_{ij})**2 + (1 + δy_{ij}/(r_{ij}*sin(θ_{ij})))**2*sin(θ_{ij})**2) - λ)*exp(-r_{ij}*sqrt((1 + δx_{ij}/(r_{ij}*cos(θ_{ij})))**2*cos(θ_{ij})**2 + (1 + δy_{ij}/(r_{ij}*sin(θ_{ij})))**2*sin(θ_{ij})**2)/λ)/(r_{ij}**3*λ*((1 + δx_{ij}/(r_{ij}*cos(θ_{ij})))**2*cos(θ_{ij})**2 + (1 + δy_{ij}/(r_{ij}*sin(θ_{ij})))**2*sin(θ_{ij})**2)**(3/2))"
      ]
     },
     "execution_count": 228,
     "metadata": {},
     "output_type": "execute_result"
    }
   ],
   "source": [
    "linearized_Fy = Fy.subs(yij, yij + dyij).subs(rij, linearized_rij)\n",
    "linearized_Fy"
   ]
  },
  {
   "cell_type": "markdown",
   "metadata": {},
   "source": [
    "Group and simplify"
   ]
  },
  {
   "cell_type": "code",
   "execution_count": 231,
   "metadata": {},
   "outputs": [
    {
     "data": {
      "text/latex": [
       "$\\displaystyle - \\frac{\\left(r_{ij} \\sqrt{\\frac{\\left(r_{ij} \\sin{\\left(θ_{ij} \\right)} + δy_{ij}\\right)^{2} + \\left(r_{ij} \\cos{\\left(θ_{ij} \\right)} + δx_{ij}\\right)^{2}}{r_{ij}^{2}}} + λ\\right) \\left(r_{ij} \\sin{\\left(θ_{ij} \\right)} + δy_{ij}\\right) e^{- \\frac{r_{ij} \\sqrt{\\frac{\\left(r_{ij} \\sin{\\left(θ_{ij} \\right)} + δy_{ij}\\right)^{2} + \\left(r_{ij} \\cos{\\left(θ_{ij} \\right)} + δx_{ij}\\right)^{2}}{r_{ij}^{2}}}}{λ}}}{r_{ij}^{3} λ \\left(\\frac{\\left(r_{ij} \\sin{\\left(θ_{ij} \\right)} + δy_{ij}\\right)^{2} + \\left(r_{ij} \\cos{\\left(θ_{ij} \\right)} + δx_{ij}\\right)^{2}}{r_{ij}^{2}}\\right)^{\\frac{3}{2}}}$"
      ],
      "text/plain": [
       "-(r_{ij}*sqrt(((r_{ij}*sin(θ_{ij}) + δy_{ij})**2 + (r_{ij}*cos(θ_{ij}) + δx_{ij})**2)/r_{ij}**2) + λ)*(r_{ij}*sin(θ_{ij}) + δy_{ij})*exp(-r_{ij}*sqrt(((r_{ij}*sin(θ_{ij}) + δy_{ij})**2 + (r_{ij}*cos(θ_{ij}) + δx_{ij})**2)/r_{ij}**2)/λ)/(r_{ij}**3*λ*(((r_{ij}*sin(θ_{ij}) + δy_{ij})**2 + (r_{ij}*cos(θ_{ij}) + δx_{ij})**2)/r_{ij}**2)**(3/2))"
      ]
     },
     "execution_count": 231,
     "metadata": {},
     "output_type": "execute_result"
    }
   ],
   "source": [
    "linearized_Fy = linearized_Fy.subs(xij, rij * cos(θij)).subs(yij, rij * sin(θij)).simplify()\n",
    "linearized_Fy"
   ]
  },
  {
   "cell_type": "markdown",
   "metadata": {},
   "source": [
    "Find the first term in the Taylor series that doesn't affect the EOM:"
   ]
  },
  {
   "cell_type": "code",
   "execution_count": 232,
   "metadata": {},
   "outputs": [
    {
     "data": {
      "text/latex": [
       "$\\displaystyle - \\frac{\\left(ξ + 1\\right) e^{- ξ} \\sin{\\left(θ_{ij} \\right)}}{r_{ij}^{2}}$"
      ],
      "text/plain": [
       "-(ξ + 1)*exp(-ξ)*sin(θ_{ij})/r_{ij}**2"
      ]
     },
     "execution_count": 232,
     "metadata": {},
     "output_type": "execute_result"
    }
   ],
   "source": [
    "first_term = linearized_Fy.subs(dxij, 0).subs(dyij, 0).simplify()\n",
    "first_term.subs(lamb, rij / xi).simplify()"
   ]
  },
  {
   "cell_type": "markdown",
   "metadata": {},
   "source": [
    "Find the term propoertional to $\\delta x_{ij}$:"
   ]
  },
  {
   "cell_type": "code",
   "execution_count": 233,
   "metadata": {},
   "outputs": [
    {
     "data": {
      "text/latex": [
       "$\\displaystyle \\frac{\\left(ξ^{2} + 3 ξ + 3\\right) e^{- ξ} \\sin{\\left(2 θ_{ij} \\right)}}{2 r_{ij}^{3}}$"
      ],
      "text/plain": [
       "(ξ**2 + 3*ξ + 3)*exp(-ξ)*sin(2*θ_{ij})/(2*r_{ij}**3)"
      ]
     },
     "execution_count": 233,
     "metadata": {},
     "output_type": "execute_result"
    }
   ],
   "source": [
    "linear_term_x = diff(linearized_Fy, dxij).subs(dxij, 0).subs(dyij, 0).simplify()\n",
    "linear_term_x = linear_term_x.subs(lamb, rij / xi).simplify().subs(cos(θij)**2, Rational(1, 2) + Rational(1, 2) * cos(2*θij))\n",
    "linear_term_x"
   ]
  },
  {
   "cell_type": "markdown",
   "metadata": {},
   "source": [
    "Find the term propoertional to $\\delta y_{ij}$ (it is actually rather compact given what we started off with)"
   ]
  },
  {
   "cell_type": "code",
   "execution_count": 234,
   "metadata": {},
   "outputs": [
    {
     "data": {
      "text/latex": [
       "$\\displaystyle \\frac{\\left(ξ^{2} \\cdot \\left(\\frac{1}{2} - \\frac{\\cos{\\left(2 θ_{ij} \\right)}}{2}\\right) + ξ \\left(\\frac{1}{2} - \\frac{3 \\cos{\\left(2 θ_{ij} \\right)}}{2}\\right) - \\frac{3 \\cos{\\left(2 θ_{ij} \\right)}}{2} + \\frac{1}{2}\\right) e^{- ξ}}{r_{ij}^{3}}$"
      ],
      "text/plain": [
       "(ξ**2*(1/2 - cos(2*θ_{ij})/2) + ξ*(1/2 - 3*cos(2*θ_{ij})/2) - 3*cos(2*θ_{ij})/2 + 1/2)*exp(-ξ)/r_{ij}**3"
      ]
     },
     "execution_count": 234,
     "metadata": {},
     "output_type": "execute_result"
    }
   ],
   "source": [
    "linear_term_y = diff(linearized_Fy, dyij).subs(dxij, 0).subs(dyij, 0).simplify()\n",
    "linear_term_y = linear_term_y.subs(lamb, rij / xi).simplify().subs(sin(θij)**2, Rational(1, 2) - Rational(1, 2) * cos(2*θij))\n",
    "linear_term_y"
   ]
  },
  {
   "cell_type": "markdown",
   "metadata": {},
   "source": [
    "The final result below should be checked with $k_{ij}^+$ and $l_{ij}$ in C.3 and C.4 in https://schusterlab.stanford.edu/static/pdfs/Koolstra_thesis.pdf You can actually see there is a small error in C4!"
   ]
  },
  {
   "cell_type": "code",
   "execution_count": 236,
   "metadata": {},
   "outputs": [
    {
     "data": {
      "text/latex": [
       "$\\displaystyle \\frac{\\left(δx_{ij} \\left(ξ^{2} \\sin{\\left(2 θ_{ij} \\right)} + 3 ξ \\sin{\\left(2 θ_{ij} \\right)} + 3 \\sin{\\left(2 θ_{ij} \\right)}\\right) + δy_{ij} \\left(- ξ^{2} \\cos{\\left(2 θ_{ij} \\right)} + ξ^{2} - 3 ξ \\cos{\\left(2 θ_{ij} \\right)} + ξ - 3 \\cos{\\left(2 θ_{ij} \\right)} + 1\\right)\\right) e^{- ξ}}{2 r_{ij}^{3}}$"
      ],
      "text/plain": [
       "(δx_{ij}*(ξ**2*sin(2*θ_{ij}) + 3*ξ*sin(2*θ_{ij}) + 3*sin(2*θ_{ij})) + δy_{ij}*(-ξ**2*cos(2*θ_{ij}) + ξ**2 - 3*ξ*cos(2*θ_{ij}) + ξ - 3*cos(2*θ_{ij}) + 1))*exp(-ξ)/(2*r_{ij}**3)"
      ]
     },
     "execution_count": 236,
     "metadata": {},
     "output_type": "execute_result"
    }
   ],
   "source": [
    "(linear_term_x * dxij + linear_term_y * dyij).factor(dxij, dyij)"
   ]
  },
  {
   "cell_type": "code",
   "execution_count": null,
   "metadata": {},
   "outputs": [],
   "source": []
  }
 ],
 "metadata": {
  "kernelspec": {
   "display_name": "Python 3 (ipykernel)",
   "language": "python",
   "name": "python3"
  },
  "language_info": {
   "codemirror_mode": {
    "name": "ipython",
    "version": 3
   },
   "file_extension": ".py",
   "mimetype": "text/x-python",
   "name": "python",
   "nbconvert_exporter": "python",
   "pygments_lexer": "ipython3",
   "version": "3.11.7"
  }
 },
 "nbformat": 4,
 "nbformat_minor": 4
}
