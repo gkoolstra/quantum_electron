{
 "cells": [
  {
   "cell_type": "code",
   "execution_count": 1,
   "metadata": {},
   "outputs": [
    {
     "name": "stdout",
     "output_type": "stream",
     "text": [
      "quantum_electron 0.2.1\n",
      "numpy 1.24.2\n",
      "scipy 1.11.4\n",
      "matplotlib 3.7.1\n"
     ]
    }
   ],
   "source": [
    "import sympy as sp\n",
    "from sympy import diff, sin, cos, exp, sqrt, Rational, Matrix\n",
    "from quantum_electron import package_versions\n",
    "\n",
    "import numpy as np\n",
    "from matplotlib import pyplot as plt\n",
    "from scipy.constants import electron_mass, elementary_charge\n",
    "\n",
    "import matplotlib\n",
    "matplotlib.rcParams['pdf.fonttype'] = 42\n",
    "matplotlib.rcParams['font.size'] = 8\n",
    "matplotlib.rcParams['font.family'] = 'Arial'\n",
    "\n",
    "package_versions()"
   ]
  },
  {
   "cell_type": "markdown",
   "metadata": {},
   "source": [
    "# Calculation of the electron capacitance"
   ]
  },
  {
   "cell_type": "markdown",
   "metadata": {},
   "source": [
    "In this section, we calculate an analytical expression for the electron eigenfrequencies. These expressions are used to find the capacitance of a single electron. We'll start with the eigensystem for a single electron moving in the 1D plane coupled to an LC resonator. "
   ]
  },
  {
   "cell_type": "code",
   "execution_count": 2,
   "metadata": {},
   "outputs": [],
   "source": [
    "me, e, L, C, alpha, alpha2, omega0, omegae = sp.symbols('m_e e L C α α_2 ω_0, ω_e')"
   ]
  },
  {
   "cell_type": "markdown",
   "metadata": {},
   "source": [
    "The matrix equation that describes the equations of motion is given by \n",
    "$$\n",
    "\\omega^2 [\\mathbf{M}] \\vec{q} = [\\mathbf{K}] \\vec{q},\n",
    "$$\n",
    "and therefore, the eigenvalues of the matrix $[\\mathbf{M}]^{-1}[\\mathbf{K}]$ are the squared eigenfrequencies $\\omega^2$."
   ]
  },
  {
   "cell_type": "code",
   "execution_count": 3,
   "metadata": {},
   "outputs": [],
   "source": [
    "MinvK = Matrix([[1 / (L * C), e * alpha / (L * C)], \n",
    "            [e * alpha / (me * C), omegae ** 2]])"
   ]
  },
  {
   "cell_type": "code",
   "execution_count": 4,
   "metadata": {},
   "outputs": [],
   "source": [
    "evals = MinvK.eigenvals()"
   ]
  },
  {
   "cell_type": "markdown",
   "metadata": {},
   "source": [
    "Since it's a 2x2 matrix, there are 2 eigenvalues. Let's take a look at the first eigenvalue"
   ]
  },
  {
   "cell_type": "code",
   "execution_count": 5,
   "metadata": {},
   "outputs": [
    {
     "data": {
      "text/latex": [
       "$\\displaystyle \\frac{m_{e} ω_{0}^{2} + m_{e} ω_{e}^{2} - ω_{0}^{2} \\sqrt{m_{e} \\left(m_{e} - \\frac{2 m_{e} ω_{e}^{2}}{ω_{0}^{2}} + \\frac{m_{e} ω_{e}^{4}}{ω_{0}^{4}} + \\frac{4 e^{2} α^{2}}{C ω_{0}^{2}}\\right)}}{2 m_{e}}$"
      ],
      "text/plain": [
       "(m_e*ω_0**2 + m_e*ω_e**2 - ω_0**2*sqrt(m_e*(m_e - 2*m_e*ω_e**2/ω_0**2 + m_e*ω_e**4/ω_0**4 + 4*e**2*α**2/(C*ω_0**2))))/(2*m_e)"
      ]
     },
     "execution_count": 5,
     "metadata": {},
     "output_type": "execute_result"
    }
   ],
   "source": [
    "list(evals.keys())[0].subs(L, 1/(omega0**2 * C)).simplify()"
   ]
  },
  {
   "cell_type": "markdown",
   "metadata": {},
   "source": [
    "The second eigenvalue is similar in structure"
   ]
  },
  {
   "cell_type": "code",
   "execution_count": 6,
   "metadata": {},
   "outputs": [
    {
     "data": {
      "text/latex": [
       "$\\displaystyle \\frac{m_{e} ω_{0}^{2} + m_{e} ω_{e}^{2} + ω_{0}^{2} \\sqrt{m_{e} \\left(m_{e} - \\frac{2 m_{e} ω_{e}^{2}}{ω_{0}^{2}} + \\frac{m_{e} ω_{e}^{4}}{ω_{0}^{4}} + \\frac{4 e^{2} α^{2}}{C ω_{0}^{2}}\\right)}}{2 m_{e}}$"
      ],
      "text/plain": [
       "(m_e*ω_0**2 + m_e*ω_e**2 + ω_0**2*sqrt(m_e*(m_e - 2*m_e*ω_e**2/ω_0**2 + m_e*ω_e**4/ω_0**4 + 4*e**2*α**2/(C*ω_0**2))))/(2*m_e)"
      ]
     },
     "execution_count": 6,
     "metadata": {},
     "output_type": "execute_result"
    }
   ],
   "source": [
    "list(evals.keys())[1].subs(L, 1/(omega0**2 * C)).simplify()"
   ]
  },
  {
   "cell_type": "markdown",
   "metadata": {},
   "source": [
    "Next, we may expand these eigenvalues small values of $\\omega_e / \\omega_0$ to arrive at the expression for the electron capacitance."
   ]
  },
  {
   "cell_type": "markdown",
   "metadata": {},
   "source": [
    "# Coupled oscillators"
   ]
  },
  {
   "cell_type": "markdown",
   "metadata": {},
   "source": [
    "In the previous section, we studied the simple LC model and its eigenfrequencies. However, our resonator more closely resembles two coupled LC resonators with a coupling capacitance $C_\\mathrm{dot}$. In this section, we'll study that model and see if we can derive similar analytical expressions for the eigenfrequencies."
   ]
  },
  {
   "cell_type": "code",
   "execution_count": 7,
   "metadata": {},
   "outputs": [],
   "source": [
    "me, e, L, C1, C2, Cdot, D = sp.symbols('m_e e L C_1 C_2 C_dot D', positive=True)\n",
    "alpha_a, alpha_b, Vxx = sp.symbols('α_a α_b V_xx')\n",
    "omega0, omegae = sp.symbols('ω_0 ω_e', positive=True)\n"
   ]
  },
  {
   "cell_type": "markdown",
   "metadata": {},
   "source": [
    "Again, we're setting up the equations of motion in matrix form: $\n",
    "\\omega^2 [\\mathbf{M}] \\vec{q} = [\\mathbf{K}] \\vec{q}\n",
    "$.\n",
    "For the coupled LC resonators, there are 2 resonator indices, and 1 electron index, such that the matrix becomes a 3x3 matrix. "
   ]
  },
  {
   "cell_type": "code",
   "execution_count": 8,
   "metadata": {},
   "outputs": [
    {
     "data": {
      "text/latex": [
       "$\\displaystyle \\left[\\begin{matrix}\\frac{1}{L} & 0 & 0\\\\0 & \\frac{1}{L} & 0\\\\0 & 0 & \\frac{1}{m_{e}}\\end{matrix}\\right]$"
      ],
      "text/plain": [
       "Matrix([\n",
       "[1/L,   0,     0],\n",
       "[  0, 1/L,     0],\n",
       "[  0,   0, 1/m_e]])"
      ]
     },
     "execution_count": 8,
     "metadata": {},
     "output_type": "execute_result"
    }
   ],
   "source": [
    "M = Matrix([[L, 0, 0], \n",
    "            [0, L, 0], \n",
    "            [0, 0, me]])\n",
    "\n",
    "M.inv()"
   ]
  },
  {
   "cell_type": "code",
   "execution_count": 9,
   "metadata": {},
   "outputs": [
    {
     "data": {
      "text/latex": [
       "$\\displaystyle \\left[\\begin{matrix}\\frac{C_{2} + C_{dot}}{D} & \\frac{C_{dot}}{D} & \\frac{e α_{a}}{D}\\\\\\frac{C_{dot}}{D} & \\frac{C_{1} + C_{dot}}{D} & \\frac{e α_{b}}{D}\\\\\\frac{e α_{a}}{D} & \\frac{e α_{b}}{D} & V_{xx} e\\end{matrix}\\right]$"
      ],
      "text/plain": [
       "Matrix([\n",
       "[(C_2 + C_dot)/D,         C_dot/D, e*α_a/D],\n",
       "[        C_dot/D, (C_1 + C_dot)/D, e*α_b/D],\n",
       "[        e*α_a/D,         e*α_b/D,  V_xx*e]])"
      ]
     },
     "execution_count": 9,
     "metadata": {},
     "output_type": "execute_result"
    }
   ],
   "source": [
    "K = Matrix([[(C2 + Cdot)/D, Cdot / D, e * alpha_a / D], \n",
    "            [Cdot / D, (C1 + Cdot) / D, e * alpha_b / D], \n",
    "            [e * alpha_a / D, e * alpha_b / D, e * Vxx]])\n",
    "\n",
    "K"
   ]
  },
  {
   "cell_type": "code",
   "execution_count": 10,
   "metadata": {},
   "outputs": [
    {
     "data": {
      "text/latex": [
       "$\\displaystyle \\left[\\begin{matrix}\\frac{C_{2} + C_{dot}}{D L} & \\frac{C_{dot}}{D L} & \\frac{e α_{a}}{D L}\\\\\\frac{C_{dot}}{D L} & \\frac{C_{1} + C_{dot}}{D L} & \\frac{e α_{b}}{D L}\\\\\\frac{e α_{a}}{D m_{e}} & \\frac{e α_{b}}{D m_{e}} & \\frac{V_{xx} e}{m_{e}}\\end{matrix}\\right]$"
      ],
      "text/plain": [
       "Matrix([\n",
       "[(C_2 + C_dot)/(D*L),         C_dot/(D*L), e*α_a/(D*L)],\n",
       "[        C_dot/(D*L), (C_1 + C_dot)/(D*L), e*α_b/(D*L)],\n",
       "[      e*α_a/(D*m_e),       e*α_b/(D*m_e),  V_xx*e/m_e]])"
      ]
     },
     "execution_count": 10,
     "metadata": {},
     "output_type": "execute_result"
    }
   ],
   "source": [
    "MinvK = M.inv() * K\n",
    "MinvK"
   ]
  },
  {
   "cell_type": "markdown",
   "metadata": {},
   "source": [
    "We know that $$V_{xx} = \\frac{\\partial^2 V}{\\partial x^2}$$ is related to the bare electron frequency as follows:\n",
    "\n",
    "$$\n",
    "\\omega^2 = \\frac{e}{m_e} \\frac{\\partial^2 V}{\\partial x^2}\n",
    "$$\n",
    "\n",
    "Therefore, we can substitute for $\\omega_e$ in the lower right corner of the matrix:"
   ]
  },
  {
   "cell_type": "code",
   "execution_count": 11,
   "metadata": {},
   "outputs": [
    {
     "data": {
      "text/latex": [
       "$\\displaystyle \\left[\\begin{matrix}\\frac{C_{2} + C_{dot}}{D L} & \\frac{C_{dot}}{D L} & \\frac{e α_{a}}{D L}\\\\\\frac{C_{dot}}{D L} & \\frac{C_{1} + C_{dot}}{D L} & \\frac{e α_{b}}{D L}\\\\\\frac{e α_{a}}{D m_{e}} & \\frac{e α_{b}}{D m_{e}} & ω_{e}^{2}\\end{matrix}\\right]$"
      ],
      "text/plain": [
       "Matrix([\n",
       "[(C_2 + C_dot)/(D*L),         C_dot/(D*L), e*α_a/(D*L)],\n",
       "[        C_dot/(D*L), (C_1 + C_dot)/(D*L), e*α_b/(D*L)],\n",
       "[      e*α_a/(D*m_e),       e*α_b/(D*m_e),      ω_e**2]])"
      ]
     },
     "execution_count": 11,
     "metadata": {},
     "output_type": "execute_result"
    }
   ],
   "source": [
    "MinvK[2, 2] = omegae**2\n",
    "MinvK"
   ]
  },
  {
   "cell_type": "code",
   "execution_count": 12,
   "metadata": {},
   "outputs": [],
   "source": [
    "evals = MinvK.subs(C1, C).subs(C2, C).eigenvals()"
   ]
  },
  {
   "cell_type": "markdown",
   "metadata": {},
   "source": [
    "Unfortunately for us, the eigenvalues don't look as appetizing as in the simple LC oscillator case. Therefore, we shall resort to numerical modeling."
   ]
  },
  {
   "cell_type": "code",
   "execution_count": 13,
   "metadata": {},
   "outputs": [
    {
     "data": {
      "text/latex": [
       "$\\displaystyle \\frac{2 m_{e}^{\\frac{11}{6}} \\cdot \\left(2 C + 2 C_{dot} + D L ω_{e}^{2}\\right) \\sqrt[3]{27 L m_{e}^{\\frac{9}{2}} \\left(- C^{2} D m_{e} ω_{e}^{2} - 2 C C_{dot} D m_{e} ω_{e}^{2} + C e^{2} α_{a}^{2} + C e^{2} α_{b}^{2} + C_{dot} e^{2} α_{a}^{2} - 2 C_{dot} e^{2} α_{a} α_{b} + C_{dot} e^{2} α_{b}^{2}\\right) - 2 m_{e}^{\\frac{11}{2}} \\left(2 C + 2 C_{dot} + D L ω_{e}^{2}\\right)^{3} + 9 m_{e}^{\\frac{9}{2}} \\cdot \\left(2 C + 2 C_{dot} + D L ω_{e}^{2}\\right) \\left(C^{2} m_{e} + 2 C C_{dot} m_{e} + 2 C D L m_{e} ω_{e}^{2} + 2 C_{dot} D L m_{e} ω_{e}^{2} - L e^{2} α_{a}^{2} - L e^{2} α_{b}^{2}\\right) + m_{e}^{4} \\sqrt{m_{e} \\left(27 L \\left(- C^{2} D m_{e} ω_{e}^{2} - 2 C C_{dot} D m_{e} ω_{e}^{2} + C e^{2} α_{a}^{2} + C e^{2} α_{b}^{2} + C_{dot} e^{2} α_{a}^{2} - 2 C_{dot} e^{2} α_{a} α_{b} + C_{dot} e^{2} α_{b}^{2}\\right) - 2 m_{e} \\left(2 C + 2 C_{dot} + D L ω_{e}^{2}\\right)^{3} + 9 \\cdot \\left(2 C + 2 C_{dot} + D L ω_{e}^{2}\\right) \\left(C^{2} m_{e} + 2 C C_{dot} m_{e} + 2 C D L m_{e} ω_{e}^{2} + 2 C_{dot} D L m_{e} ω_{e}^{2} - L e^{2} α_{a}^{2} - L e^{2} α_{b}^{2}\\right)\\right)^{2} - 4 \\left(- 3 C^{2} m_{e} - 6 C C_{dot} m_{e} - 6 C D L m_{e} ω_{e}^{2} - 6 C_{dot} D L m_{e} ω_{e}^{2} + 3 L e^{2} α_{a}^{2} + 3 L e^{2} α_{b}^{2} + m_{e} \\left(2 C + 2 C_{dot} + D L ω_{e}^{2}\\right)^{2}\\right)^{3}}} + 2 \\cdot \\sqrt[3]{2} m_{e}^{\\frac{8}{3}} \\cdot \\left(3 C^{2} m_{e} + 6 C C_{dot} m_{e} + 6 C D L m_{e} ω_{e}^{2} + 6 C_{dot} D L m_{e} ω_{e}^{2} - 3 L e^{2} α_{a}^{2} - 3 L e^{2} α_{b}^{2} - m_{e} \\left(2 C + 2 C_{dot} + D L ω_{e}^{2}\\right)^{2}\\right) - 2^{\\frac{2}{3}} \\left(27 L m_{e}^{\\frac{9}{2}} \\left(- C^{2} D m_{e} ω_{e}^{2} - 2 C C_{dot} D m_{e} ω_{e}^{2} + C e^{2} α_{a}^{2} + C e^{2} α_{b}^{2} + C_{dot} e^{2} α_{a}^{2} - 2 C_{dot} e^{2} α_{a} α_{b} + C_{dot} e^{2} α_{b}^{2}\\right) - 2 m_{e}^{\\frac{11}{2}} \\left(2 C + 2 C_{dot} + D L ω_{e}^{2}\\right)^{3} + 9 m_{e}^{\\frac{9}{2}} \\cdot \\left(2 C + 2 C_{dot} + D L ω_{e}^{2}\\right) \\left(C^{2} m_{e} + 2 C C_{dot} m_{e} + 2 C D L m_{e} ω_{e}^{2} + 2 C_{dot} D L m_{e} ω_{e}^{2} - L e^{2} α_{a}^{2} - L e^{2} α_{b}^{2}\\right) + m_{e}^{4} \\sqrt{m_{e} \\left(27 L \\left(- C^{2} D m_{e} ω_{e}^{2} - 2 C C_{dot} D m_{e} ω_{e}^{2} + C e^{2} α_{a}^{2} + C e^{2} α_{b}^{2} + C_{dot} e^{2} α_{a}^{2} - 2 C_{dot} e^{2} α_{a} α_{b} + C_{dot} e^{2} α_{b}^{2}\\right) - 2 m_{e} \\left(2 C + 2 C_{dot} + D L ω_{e}^{2}\\right)^{3} + 9 \\cdot \\left(2 C + 2 C_{dot} + D L ω_{e}^{2}\\right) \\left(C^{2} m_{e} + 2 C C_{dot} m_{e} + 2 C D L m_{e} ω_{e}^{2} + 2 C_{dot} D L m_{e} ω_{e}^{2} - L e^{2} α_{a}^{2} - L e^{2} α_{b}^{2}\\right)\\right)^{2} - 4 \\left(- 3 C^{2} m_{e} - 6 C C_{dot} m_{e} - 6 C D L m_{e} ω_{e}^{2} - 6 C_{dot} D L m_{e} ω_{e}^{2} + 3 L e^{2} α_{a}^{2} + 3 L e^{2} α_{b}^{2} + m_{e} \\left(2 C + 2 C_{dot} + D L ω_{e}^{2}\\right)^{2}\\right)^{3}}\\right)^{\\frac{2}{3}}}{6 D L m_{e}^{\\frac{11}{6}} \\sqrt[3]{27 L m_{e}^{\\frac{9}{2}} \\left(- C^{2} D m_{e} ω_{e}^{2} - 2 C C_{dot} D m_{e} ω_{e}^{2} + C e^{2} α_{a}^{2} + C e^{2} α_{b}^{2} + C_{dot} e^{2} α_{a}^{2} - 2 C_{dot} e^{2} α_{a} α_{b} + C_{dot} e^{2} α_{b}^{2}\\right) - 2 m_{e}^{\\frac{11}{2}} \\left(2 C + 2 C_{dot} + D L ω_{e}^{2}\\right)^{3} + 9 m_{e}^{\\frac{9}{2}} \\cdot \\left(2 C + 2 C_{dot} + D L ω_{e}^{2}\\right) \\left(C^{2} m_{e} + 2 C C_{dot} m_{e} + 2 C D L m_{e} ω_{e}^{2} + 2 C_{dot} D L m_{e} ω_{e}^{2} - L e^{2} α_{a}^{2} - L e^{2} α_{b}^{2}\\right) + m_{e}^{4} \\sqrt{m_{e} \\left(27 L \\left(- C^{2} D m_{e} ω_{e}^{2} - 2 C C_{dot} D m_{e} ω_{e}^{2} + C e^{2} α_{a}^{2} + C e^{2} α_{b}^{2} + C_{dot} e^{2} α_{a}^{2} - 2 C_{dot} e^{2} α_{a} α_{b} + C_{dot} e^{2} α_{b}^{2}\\right) - 2 m_{e} \\left(2 C + 2 C_{dot} + D L ω_{e}^{2}\\right)^{3} + 9 \\cdot \\left(2 C + 2 C_{dot} + D L ω_{e}^{2}\\right) \\left(C^{2} m_{e} + 2 C C_{dot} m_{e} + 2 C D L m_{e} ω_{e}^{2} + 2 C_{dot} D L m_{e} ω_{e}^{2} - L e^{2} α_{a}^{2} - L e^{2} α_{b}^{2}\\right)\\right)^{2} - 4 \\left(- 3 C^{2} m_{e} - 6 C C_{dot} m_{e} - 6 C D L m_{e} ω_{e}^{2} - 6 C_{dot} D L m_{e} ω_{e}^{2} + 3 L e^{2} α_{a}^{2} + 3 L e^{2} α_{b}^{2} + m_{e} \\left(2 C + 2 C_{dot} + D L ω_{e}^{2}\\right)^{2}\\right)^{3}}}}$"
      ],
      "text/plain": [
       "(2*m_e**(11/6)*(2*C + 2*C_dot + D*L*ω_e**2)*(27*L*m_e**(9/2)*(-C**2*D*m_e*ω_e**2 - 2*C*C_dot*D*m_e*ω_e**2 + C*e**2*α_a**2 + C*e**2*α_b**2 + C_dot*e**2*α_a**2 - 2*C_dot*e**2*α_a*α_b + C_dot*e**2*α_b**2) - 2*m_e**(11/2)*(2*C + 2*C_dot + D*L*ω_e**2)**3 + 9*m_e**(9/2)*(2*C + 2*C_dot + D*L*ω_e**2)*(C**2*m_e + 2*C*C_dot*m_e + 2*C*D*L*m_e*ω_e**2 + 2*C_dot*D*L*m_e*ω_e**2 - L*e**2*α_a**2 - L*e**2*α_b**2) + m_e**4*sqrt(m_e*(27*L*(-C**2*D*m_e*ω_e**2 - 2*C*C_dot*D*m_e*ω_e**2 + C*e**2*α_a**2 + C*e**2*α_b**2 + C_dot*e**2*α_a**2 - 2*C_dot*e**2*α_a*α_b + C_dot*e**2*α_b**2) - 2*m_e*(2*C + 2*C_dot + D*L*ω_e**2)**3 + 9*(2*C + 2*C_dot + D*L*ω_e**2)*(C**2*m_e + 2*C*C_dot*m_e + 2*C*D*L*m_e*ω_e**2 + 2*C_dot*D*L*m_e*ω_e**2 - L*e**2*α_a**2 - L*e**2*α_b**2))**2 - 4*(-3*C**2*m_e - 6*C*C_dot*m_e - 6*C*D*L*m_e*ω_e**2 - 6*C_dot*D*L*m_e*ω_e**2 + 3*L*e**2*α_a**2 + 3*L*e**2*α_b**2 + m_e*(2*C + 2*C_dot + D*L*ω_e**2)**2)**3))**(1/3) + 2*2**(1/3)*m_e**(8/3)*(3*C**2*m_e + 6*C*C_dot*m_e + 6*C*D*L*m_e*ω_e**2 + 6*C_dot*D*L*m_e*ω_e**2 - 3*L*e**2*α_a**2 - 3*L*e**2*α_b**2 - m_e*(2*C + 2*C_dot + D*L*ω_e**2)**2) - 2**(2/3)*(27*L*m_e**(9/2)*(-C**2*D*m_e*ω_e**2 - 2*C*C_dot*D*m_e*ω_e**2 + C*e**2*α_a**2 + C*e**2*α_b**2 + C_dot*e**2*α_a**2 - 2*C_dot*e**2*α_a*α_b + C_dot*e**2*α_b**2) - 2*m_e**(11/2)*(2*C + 2*C_dot + D*L*ω_e**2)**3 + 9*m_e**(9/2)*(2*C + 2*C_dot + D*L*ω_e**2)*(C**2*m_e + 2*C*C_dot*m_e + 2*C*D*L*m_e*ω_e**2 + 2*C_dot*D*L*m_e*ω_e**2 - L*e**2*α_a**2 - L*e**2*α_b**2) + m_e**4*sqrt(m_e*(27*L*(-C**2*D*m_e*ω_e**2 - 2*C*C_dot*D*m_e*ω_e**2 + C*e**2*α_a**2 + C*e**2*α_b**2 + C_dot*e**2*α_a**2 - 2*C_dot*e**2*α_a*α_b + C_dot*e**2*α_b**2) - 2*m_e*(2*C + 2*C_dot + D*L*ω_e**2)**3 + 9*(2*C + 2*C_dot + D*L*ω_e**2)*(C**2*m_e + 2*C*C_dot*m_e + 2*C*D*L*m_e*ω_e**2 + 2*C_dot*D*L*m_e*ω_e**2 - L*e**2*α_a**2 - L*e**2*α_b**2))**2 - 4*(-3*C**2*m_e - 6*C*C_dot*m_e - 6*C*D*L*m_e*ω_e**2 - 6*C_dot*D*L*m_e*ω_e**2 + 3*L*e**2*α_a**2 + 3*L*e**2*α_b**2 + m_e*(2*C + 2*C_dot + D*L*ω_e**2)**2)**3))**(2/3))/(6*D*L*m_e**(11/6)*(27*L*m_e**(9/2)*(-C**2*D*m_e*ω_e**2 - 2*C*C_dot*D*m_e*ω_e**2 + C*e**2*α_a**2 + C*e**2*α_b**2 + C_dot*e**2*α_a**2 - 2*C_dot*e**2*α_a*α_b + C_dot*e**2*α_b**2) - 2*m_e**(11/2)*(2*C + 2*C_dot + D*L*ω_e**2)**3 + 9*m_e**(9/2)*(2*C + 2*C_dot + D*L*ω_e**2)*(C**2*m_e + 2*C*C_dot*m_e + 2*C*D*L*m_e*ω_e**2 + 2*C_dot*D*L*m_e*ω_e**2 - L*e**2*α_a**2 - L*e**2*α_b**2) + m_e**4*sqrt(m_e*(27*L*(-C**2*D*m_e*ω_e**2 - 2*C*C_dot*D*m_e*ω_e**2 + C*e**2*α_a**2 + C*e**2*α_b**2 + C_dot*e**2*α_a**2 - 2*C_dot*e**2*α_a*α_b + C_dot*e**2*α_b**2) - 2*m_e*(2*C + 2*C_dot + D*L*ω_e**2)**3 + 9*(2*C + 2*C_dot + D*L*ω_e**2)*(C**2*m_e + 2*C*C_dot*m_e + 2*C*D*L*m_e*ω_e**2 + 2*C_dot*D*L*m_e*ω_e**2 - L*e**2*α_a**2 - L*e**2*α_b**2))**2 - 4*(-3*C**2*m_e - 6*C*C_dot*m_e - 6*C*D*L*m_e*ω_e**2 - 6*C_dot*D*L*m_e*ω_e**2 + 3*L*e**2*α_a**2 + 3*L*e**2*α_b**2 + m_e*(2*C + 2*C_dot + D*L*ω_e**2)**2)**3))**(1/3))"
      ]
     },
     "execution_count": 13,
     "metadata": {},
     "output_type": "execute_result"
    }
   ],
   "source": [
    "list(evals.keys())[0].subs(C1, C).subs(C2, C).simplify()"
   ]
  },
  {
   "cell_type": "markdown",
   "metadata": {},
   "source": [
    "## Eigenfrequencies without the electron"
   ]
  },
  {
   "cell_type": "markdown",
   "metadata": {},
   "source": [
    "To verify the eigenfrequencies of the coupled model we briefly eliminate the electron from the matrix, and calculate the eigenvalues:"
   ]
  },
  {
   "cell_type": "code",
   "execution_count": 14,
   "metadata": {},
   "outputs": [],
   "source": [
    "evals = MinvK[:2, :2].eigenvals()"
   ]
  },
  {
   "cell_type": "markdown",
   "metadata": {},
   "source": [
    "We find that $\\omega_\\mathrm{diff}^2$ is given by"
   ]
  },
  {
   "cell_type": "code",
   "execution_count": 15,
   "metadata": {},
   "outputs": [
    {
     "data": {
      "text/latex": [
       "$\\displaystyle \\frac{1}{L \\left(C + 2 C_{dot}\\right)}$"
      ],
      "text/plain": [
       "1/(L*(C + 2*C_dot))"
      ]
     },
     "execution_count": 15,
     "metadata": {},
     "output_type": "execute_result"
    }
   ],
   "source": [
    "list(evals.keys())[0].subs(C1, C).subs(C2, C).subs(D, C**2 + 2*C*Cdot).simplify()"
   ]
  },
  {
   "cell_type": "markdown",
   "metadata": {},
   "source": [
    "and similarly $\\omega_\\mathrm{comm}^2$ is given by"
   ]
  },
  {
   "cell_type": "code",
   "execution_count": 16,
   "metadata": {},
   "outputs": [
    {
     "data": {
      "text/latex": [
       "$\\displaystyle \\frac{1}{C L}$"
      ],
      "text/plain": [
       "1/(C*L)"
      ]
     },
     "execution_count": 16,
     "metadata": {},
     "output_type": "execute_result"
    }
   ],
   "source": [
    "list(evals.keys())[1].subs(C1, C).subs(C2, C).subs(D, C**2 + 2*C*Cdot).simplify()"
   ]
  },
  {
   "cell_type": "markdown",
   "metadata": {},
   "source": [
    "## Numerical explorations of the coupled LC oscillator model"
   ]
  },
  {
   "cell_type": "markdown",
   "metadata": {},
   "source": [
    "We'll use some of the expressions derived above in this section, so please refer to those sections, in particular for the derivation of the matrix $[\\mathbf{M}]^{-1}[\\mathbf{K}]$.\n",
    "The following function will allow us to diagonalize this matrix to find the eigenfrequencies. "
   ]
  },
  {
   "cell_type": "code",
   "execution_count": 17,
   "metadata": {},
   "outputs": [],
   "source": [
    "def diagonalize_this(c, cdot, l, omega_e, alpha_plus_prime, alpha_minus_prime):\n",
    "    c1 = c\n",
    "    c2 = c\n",
    "    d = c1 * c2 + cdot * c1 + c2 * cdot\n",
    "\n",
    "    alpha_a = (c2 + cdot) * alpha_plus_prime + cdot * alpha_minus_prime\n",
    "    alpha_b = (c1 + cdot) * alpha_minus_prime + cdot * alpha_plus_prime\n",
    "    \n",
    "    minvk = np.array([[(c2 + cdot) / (d * l), cdot / (d * l), elementary_charge * alpha_a / (d * l)], \n",
    "                      [cdot / (d * l), (c1 + cdot) / (d * l), elementary_charge * alpha_b / (d * l)], \n",
    "                      [elementary_charge * alpha_a / (d * electron_mass), elementary_charge * alpha_b / (d * electron_mass), omega_e ** 2]])\n",
    "    \n",
    "    evals, evecs = np.linalg.eig(minvk)\n",
    "    efreqs = np.sqrt(evals) / (2 * np.pi )\n",
    "    \n",
    "    return efreqs"
   ]
  },
  {
   "cell_type": "code",
   "execution_count": 18,
   "metadata": {},
   "outputs": [
    {
     "data": {
      "text/latex": [
       "$\\displaystyle \\left[\\begin{matrix}\\frac{C_{2} + C_{dot}}{D L} & \\frac{C_{dot}}{D L} & \\frac{e α_{a}}{D L}\\\\\\frac{C_{dot}}{D L} & \\frac{C_{1} + C_{dot}}{D L} & \\frac{e α_{b}}{D L}\\\\\\frac{e α_{a}}{D m_{e}} & \\frac{e α_{b}}{D m_{e}} & ω_{e}^{2}\\end{matrix}\\right]$"
      ],
      "text/plain": [
       "Matrix([\n",
       "[(C_2 + C_dot)/(D*L),         C_dot/(D*L), e*α_a/(D*L)],\n",
       "[        C_dot/(D*L), (C_1 + C_dot)/(D*L), e*α_b/(D*L)],\n",
       "[      e*α_a/(D*m_e),       e*α_b/(D*m_e),      ω_e**2]])"
      ]
     },
     "execution_count": 18,
     "metadata": {},
     "output_type": "execute_result"
    }
   ],
   "source": [
    "MinvK"
   ]
  },
  {
   "cell_type": "markdown",
   "metadata": {},
   "source": [
    "A quick example of how to use this. Let's say experimentally we have a resonator with measured differential frequency `f0_diff` and expected impedance `Z0_diff`. The cell below calculates the inductance and capacitances consistent with these inputs.\n",
    "Note that `alpha_plus_prime` and `alpha_minus_prime` are $\\partial \\alpha_\\mathrm{res}^a /\\partial x$ and $\\partial \\alpha_\\mathrm{res}^b /\\partial x$, respectively. These are the values of the electric field when 1 V is applied to the top and bottom electrodes of the resonator, respectively."
   ]
  },
  {
   "cell_type": "code",
   "execution_count": 25,
   "metadata": {},
   "outputs": [
    {
     "data": {
      "text/plain": [
       "array([2.00000008e+10, 5.75799708e+09, 5.95516860e+09])"
      ]
     },
     "execution_count": 25,
     "metadata": {},
     "output_type": "execute_result"
    }
   ],
   "source": [
    "f0_diff = 5.758e9\n",
    "Z0_diff = 180 #120\n",
    "\n",
    "omega0 = 2 * np.pi * f0_diff\n",
    "cdot = 0.05e-13\n",
    "l = Z0_diff / omega0\n",
    "c = 1 / (omega0 ** 2 * l) - 2 * cdot\n",
    "assert c > 0, \"The calculated capacitance must be > 0\"\n",
    "\n",
    "params = {\"c\" : c,\n",
    "          \"cdot\" : cdot, \n",
    "          \"l\" : l, \n",
    "          \"omega_e\" : 2 * np.pi * 20e9, \n",
    "          \"alpha_plus_prime\" : 0.2e6, \n",
    "          \"alpha_minus_prime\" : -0.2e6}\n",
    "\n",
    "efreqs = diagonalize_this(**params)\n",
    "efreqs"
   ]
  },
  {
   "cell_type": "code",
   "execution_count": 33,
   "metadata": {},
   "outputs": [
    {
     "data": {
      "text/plain": [
       "2082.3018438095446"
      ]
     },
     "execution_count": 33,
     "metadata": {},
     "output_type": "execute_result"
    }
   ],
   "source": [
    "np.sqrt(params['l'] / (params['c'] + 2*params['cdot']))"
   ]
  },
  {
   "cell_type": "markdown",
   "metadata": {},
   "source": [
    "The common and differential modde frequencies are identified far away from the electron crossings, and they are:"
   ]
  },
  {
   "cell_type": "code",
   "execution_count": 34,
   "metadata": {},
   "outputs": [
    {
     "name": "stdout",
     "output_type": "stream",
     "text": [
      "Common mode: 5.590 GHz, Differential mode: 5.206 GHz\n"
     ]
    }
   ],
   "source": [
    "f_comm = np.sqrt(1 / (params['l'] * (params['c']))) / (2 * np.pi )\n",
    "f_diff = np.sqrt(1 / (params['l'] * (params['c'] + 2 * params[\"cdot\"]))) / (2 * np.pi )\n",
    "\n",
    "print(f\"Common mode: {f_comm/1e9:.3f} GHz, Differential mode: {f_diff/1e9:.3f} GHz\")"
   ]
  },
  {
   "cell_type": "markdown",
   "metadata": {},
   "source": [
    "## Resonant coupling of a single electron "
   ]
  },
  {
   "cell_type": "markdown",
   "metadata": {},
   "source": [
    "Let us check that the model makes sense. First, when `alpha_plus_prime = -alpha_minus_prime`, the electron shouldn't couple to the common mode of the resonator."
   ]
  },
  {
   "cell_type": "code",
   "execution_count": 30,
   "metadata": {},
   "outputs": [
    {
     "name": "stdout",
     "output_type": "stream",
     "text": [
      "2g =  25.40868760734844 MHz\n",
      "2g =  101.63465477428723 MHz\n"
     ]
    },
    {
     "data": {
      "image/png": "[encoded data removed]",
      "text/plain": [
       "<Figure size 320x200 with 1 Axes>"
      ]
     },
     "metadata": {},
     "output_type": "display_data"
    }
   ],
   "source": [
    "electron_freqs = np.linspace(5.5e9, 6.2e9, 5001)\n",
    "\n",
    "eigenfrequencies = np.zeros((len(electron_freqs), 3))\n",
    "\n",
    "fig = plt.figure(figsize=(3.2, 2.))\n",
    "\n",
    "for Ex, color in zip([0.25e6, 1e6], ['gray', 'black']):\n",
    "    f0_diff = 5.758e9\n",
    "    Z0_diff = 200\n",
    "\n",
    "    omega0 = 2 * np.pi * f0_diff\n",
    "    cdot = 0.5e-14\n",
    "    l = Z0_diff / omega0\n",
    "    \n",
    "    params = {\"c\" : 1 / (omega0 ** 2 * l) - 2 * cdot,\n",
    "              \"cdot\" : cdot, \n",
    "              \"l\" : l, \n",
    "              \"omega_e\" : 2 * np.pi * 20e9, \n",
    "              \"alpha_plus_prime\" : Ex, \n",
    "              \"alpha_minus_prime\" : -Ex}\n",
    "\n",
    "    for k, f_e in enumerate(electron_freqs):\n",
    "        params[\"omega_e\"] = 2 * np.pi * f_e\n",
    "        efreqs = diagonalize_this(**params)\n",
    "\n",
    "        eigenfrequencies[k] = np.sort(efreqs)\n",
    "\n",
    "    for k in range(3):\n",
    "        label = \"\" if k == 0 else f\"Ex = {Ex/1e6}V/$\\mu$m\"\n",
    "        plt.plot(electron_freqs /1e9, eigenfrequencies[:, k] /1e9, color=color, label=label)\n",
    "\n",
    "    # Estimate 2 * g from the minimum distance.\n",
    "    print(\"2g = \", np.min(eigenfrequencies[:, 1] - eigenfrequencies[:, 0]) / 1e6, \"MHz\")\n",
    "\n",
    "    plt.xlabel(\"Electron frequency (GHz)\")\n",
    "    plt.ylabel(\"Eigenfrequencies (GHz)\")\n",
    "    plt.xlim(electron_freqs.min() / 1e9, electron_freqs.max() /1e9)\n",
    "    # plt.legend(loc=0, frameon=False)"
   ]
  },
  {
   "cell_type": "markdown",
   "metadata": {},
   "source": [
    "Indeed, we see that the common mode doesn't have an avoided crossing, whereas the differential mode has an avoided crossing that tunes with the value of `alpha_minus_prime`. \n",
    "\n",
    "We determined the apparent $g$ from the avoided crossing, but does this value of $g/2\\pi$ make sense? Let's calculate the expected value, which is given by \n",
    "\n",
    "$$\n",
    "    g = \\frac{1}{2} e E_x \\sqrt{\\frac{Z}{m_e \\omega_e}}\n",
    "$$"
   ]
  },
  {
   "cell_type": "code",
   "execution_count": 23,
   "metadata": {},
   "outputs": [
    {
     "name": "stdout",
     "output_type": "stream",
     "text": [
      "For Ex = 0.2 V/µm, we expect g/2π =  7.2 MHz\n",
      "For Ex = 0.4 V/µm, we expect g/2π =  14.4 MHz\n"
     ]
    }
   ],
   "source": [
    "for Ex in [0.2e6, 0.4e6]:\n",
    "    print(f\"For Ex = {Ex/1e6:0.1f} V/µm, we expect g/2π = {1e-6 * 0.5 * elementary_charge * Ex * np.sqrt(Z0_diff * 2 * np.pi * f0_diff / electron_mass) / (2 * np.pi) : .1f} MHz\")"
   ]
  },
  {
   "cell_type": "markdown",
   "metadata": {},
   "source": [
    "## Electron counting in the dispersive regime"
   ]
  },
  {
   "cell_type": "code",
   "execution_count": 40,
   "metadata": {},
   "outputs": [
    {
     "name": "stdout",
     "output_type": "stream",
     "text": [
      "Common mode: 5.590 GHz, Differential mode: 5.206 GHz\n"
     ]
    }
   ],
   "source": [
    "# Note, a factor of pi/2 accounts for the distributed nature of the capacitance to gnd, inductance and shunt capacitance.\n",
    "params = {\"c\" : 2 * 20e-15 / np.pi,\n",
    "          \"cdot\" : 0.02e-15 + 3e-15 / np.pi, \n",
    "          \"l\" : 2 * 100e-9 / np.pi, \n",
    "          \"omega_e\" : 2 * np.pi * 20e9, \n",
    "          \"alpha_plus_prime\" : 0.2e6, \n",
    "          \"alpha_minus_prime\" : -0.2e6}\n",
    "\n",
    "f0_comm = np.sqrt(1 / (params['l'] * (params['c']))) / (2 * np.pi )\n",
    "f0_diff = np.sqrt(1 / (params['l'] * (params['c'] + 2 * params[\"cdot\"]))) / (2 * np.pi )\n",
    "\n",
    "print(f\"Common mode: {f_comm/1e9:.3f} GHz, Differential mode: {f_diff/1e9:.3f} GHz\")"
   ]
  },
  {
   "cell_type": "code",
   "execution_count": 43,
   "metadata": {},
   "outputs": [
    {
     "data": {
      "text/plain": [
       "<matplotlib.legend.Legend at 0x17fdf7dd0>"
      ]
     },
     "execution_count": 43,
     "metadata": {},
     "output_type": "execute_result"
    },
    {
     "data": {
      "image/png": "[encoded data removed]",
      "text/plain": [
       "<Figure size 320x200 with 1 Axes>"
      ]
     },
     "metadata": {},
     "output_type": "display_data"
    }
   ],
   "source": [
    "electron_freqs = np.linspace(10e9, 30e9, 5001)\n",
    "\n",
    "eigenfrequencies = np.zeros((len(electron_freqs), 3))\n",
    "\n",
    "# Sweep the electron frequency\n",
    "for k, f_e in enumerate(electron_freqs):\n",
    "    params[\"omega_e\"] = 2 * np.pi * f_e\n",
    "    efreqs = diagonalize_this(**params)\n",
    "\n",
    "    eigenfrequencies[k] = np.sort(efreqs)\n",
    "\n",
    "fig = plt.figure(figsize=(3.2, 2))\n",
    "\n",
    "# And from here we calculate the frequency shifts (measured from the bare values)\n",
    "plt.plot(electron_freqs/1e9, 1e-3 * (eigenfrequencies[:, 0] - f0_diff), color='tab:blue', label='Differential mode', lw=2)\n",
    "plt.plot(electron_freqs/1e9, 1e-3 * (eigenfrequencies[:, 1] - f0_comm), color='tab:red', label='Common mode', lw=2)\n",
    "\n",
    "# Calculation of the capacitance change from the dispersive shift of the differential mode.\n",
    "# The expression comes from a simple LC model, but if the resonance frequency shifts agree then this expression should be valid.\n",
    "total_capacitance = params['c'] + 2 * params['cdot']\n",
    "delta_c = 2 * (elementary_charge) ** 2 / (electron_mass * (2 * np.pi) ** 2 * (electron_freqs ** 2 - f0_diff ** 2)) * (0.5 * (params['alpha_plus_prime'] - params['alpha_minus_prime'])) ** 2\n",
    "simple_lc_shift = -f0_diff * 0.5 * delta_c / total_capacitance\n",
    "\n",
    "plt.plot(electron_freqs/1e9, 1e-3 * simple_lc_shift, '--', color='black', label=\"Simple LC circuit\")\n",
    "\n",
    "plt.xlabel(\"Dot curvature (GHz)\")\n",
    "plt.ylabel(\"Frequency shift (kHz)\")\n",
    "plt.xlim(electron_freqs.min()/1e9, electron_freqs.max()/1e9)\n",
    "plt.legend(loc=0, frameon=False)"
   ]
  },
  {
   "cell_type": "markdown",
   "metadata": {},
   "source": [
    "## Effect of the dot capacitance"
   ]
  },
  {
   "cell_type": "code",
   "execution_count": 57,
   "metadata": {},
   "outputs": [
    {
     "data": {
      "text/plain": [
       "<matplotlib.legend.Legend at 0x149537dd0>"
      ]
     },
     "execution_count": 57,
     "metadata": {},
     "output_type": "execute_result"
    },
    {
     "data": {
      "image/png": "[encoded data removed]",
      "text/plain": [
       "<Figure size 320x200 with 1 Axes>"
      ]
     },
     "metadata": {},
     "output_type": "display_data"
    }
   ],
   "source": [
    "# Note, a factor of pi/2 accounts for the distributed nature of the capacitance to gnd, inductance and shunt capacitance.\n",
    "params = {\"c\" : 2 * 20e-15 / np.pi,\n",
    "          \"cdot\" : 0.0, \n",
    "          \"l\" : 2 * 100e-9 / np.pi, \n",
    "          \"omega_e\" : 2 * np.pi * 20e9, \n",
    "          \"alpha_plus_prime\" : 0.2e6, \n",
    "          \"alpha_minus_prime\" : -0.2e6}\n",
    "\n",
    "Cshunt = np.logspace(-18, -14)\n",
    "f0_comms = np.zeros(len(Cshunt))\n",
    "f0_diffs = np.zeros(len(Cshunt))\n",
    "\n",
    "for k, c_s in enumerate(Cshunt):\n",
    "    params['cdot'] = 2 * c_s / np.pi\n",
    "    f0_comms[k] = np.sqrt(1 / (params['l'] * (params['c']))) / (2 * np.pi )\n",
    "    f0_diffs[k] = np.sqrt(1 / (params['l'] * (params['c'] + 2 * params[\"cdot\"]))) / (2 * np.pi )\n",
    "\n",
    "fig = plt.figure(figsize=(3.2, 2))\n",
    "plt.plot(Cshunt * 1e15, f0_comms / 1e9, color='tab:purple', label='Common mode')\n",
    "plt.plot(Cshunt * 1e15, f0_diffs / 1e9, color='tab:orange', label='Differential mode')\n",
    "plt.plot(Cshunt * 1e15, (f0_comms - f0_comms * Cshunt * 2 / np.pi / (params[\"c\"] + 2 * Cshunt * 2  / np.pi)) / 1e9, '--k', lw=1)\n",
    "plt.xlabel(\"Shunt capacitance $C_s$ (fF)\")\n",
    "plt.xscale('log')\n",
    "plt.ylabel(\"Resonance frequency (GHz)\")\n",
    "plt.legend(loc=0, frameon=False)\n",
    "\n",
    "# Interesting story: For high impedance you want low capacitance, but you need some capacitance to split the common and differential mode.\n",
    "# If the shunt cap is much smaller than the total capacitance, alpha << 1, then the splitting is given by alpha * f0 =  cdot * f0 / c + 2 cdot "
   ]
  },
  {
   "cell_type": "markdown",
   "metadata": {},
   "source": [
    "## Capacitance of single electron on differential mode"
   ]
  },
  {
   "cell_type": "code",
   "execution_count": 37,
   "metadata": {},
   "outputs": [
    {
     "name": "stdout",
     "output_type": "stream",
     "text": [
      "5.758 5.760084293864052\n",
      "{'c': 1.3810331980887056e-13, 'cdot': 5e-17, 'l': 5.528132792354822e-09, 'omega_e': 188495559215.38757, 'alpha_plus_prime': 240000.0, 'alpha_minus_prime': -240000.0}\n"
     ]
    },
    {
     "data": {
      "text/plain": [
       "(10.0, 30.0)"
      ]
     },
     "execution_count": 37,
     "metadata": {},
     "output_type": "execute_result"
    },
    {
     "data": {
      "image/png": "[encoded data removed]",
      "text/plain": [
       "<Figure size 320x200 with 1 Axes>"
      ]
     },
     "metadata": {},
     "output_type": "display_data"
    },
    {
     "data": {
      "image/png": "[encoded data removed]",
      "text/plain": [
       "<Figure size 320x200 with 1 Axes>"
      ]
     },
     "metadata": {},
     "output_type": "display_data"
    }
   ],
   "source": [
    "electron_freqs = np.linspace(10e9, 30e9, 5001)\n",
    "\n",
    "eigenfrequencies = np.zeros((len(electron_freqs), 3))\n",
    "\n",
    "fig = plt.figure(figsize=(3.2,2))\n",
    "\n",
    "f0_diff = 5.758e9\n",
    "Z0_diff = 200\n",
    "Ex = 0.24e6\n",
    "\n",
    "# Calculate the resonator parameters from the measured differential mode frequency and estimated impedance\n",
    "omega0 = 2 * np.pi * f0_diff\n",
    "cdot = 0.05e-15\n",
    "l = Z0_diff / omega0\n",
    "params = {\"c\" : 1 / (omega0 ** 2 * l) - 2 * cdot,\n",
    "          \"cdot\" : cdot, \n",
    "          \"l\" : l, \n",
    "          \"omega_e\" : 2 * np.pi * 20e9, \n",
    "          \"alpha_plus_prime\" : Ex, \n",
    "          \"alpha_minus_prime\" : -Ex}\n",
    "\n",
    "assert params['c'] > 0, \"The calculated capacitance is not physical\"\n",
    "\n",
    "# Sweep the electron frequency\n",
    "for k, f_e in enumerate(electron_freqs):\n",
    "    params[\"omega_e\"] = 2 * np.pi * f_e\n",
    "    efreqs = diagonalize_this(**params)\n",
    "\n",
    "    eigenfrequencies[k] = np.sort(efreqs)\n",
    "\n",
    "# The bare common mode frequency can now be calculated\n",
    "f0_comm = np.sqrt(1 / (params['l'] * params['c'])) / (2 * np.pi)\n",
    "    \n",
    "# And from here we calculate the frequency shifts (measured from the bare values)\n",
    "plt.plot(electron_freqs/1e9, 1e-3 * (eigenfrequencies[:, 0] - f0_diff), color='tab:blue', label='Differential mode', lw=2)\n",
    "plt.plot(electron_freqs/1e9, 1e-3 * (eigenfrequencies[:, 1] - f0_comm), color='tab:red', label='Common mode', lw=2)\n",
    "\n",
    "# Calculation of the capacitance change from the dispersive shift of the differential mode.\n",
    "# The expression comes from a simple LC model, but if the resonance frequency shifts agree then this expression should be valid.\n",
    "total_capacitance = params['c'] + 2 * params['cdot']\n",
    "delta_c = 2 * (elementary_charge) ** 2 / (electron_mass * (2 * np.pi) ** 2 * (electron_freqs ** 2 - f0_diff ** 2)) * (0.5 * (params['alpha_plus_prime'] - params['alpha_minus_prime'])) ** 2\n",
    "simple_lc_shift = -f0_diff * 0.5 * delta_c / total_capacitance\n",
    "\n",
    "plt.plot(electron_freqs/1e9, 1e-3 * simple_lc_shift, '--', color='black', label=\"Simple LC circuit\")\n",
    "\n",
    "print(f0_diff/1e9, f0_comm/1e9)\n",
    "print(params)\n",
    "\n",
    "plt.xlabel(\"Electron frequency (GHz)\")\n",
    "plt.ylabel(\"Frequency shift (kHz)\")\n",
    "plt.xlim(electron_freqs.min()/1e9, electron_freqs.max()/1e9)\n",
    "plt.legend(loc=0, frameon=False)\n",
    "\n",
    "fig = plt.figure(figsize=(3.2,2))\n",
    "plt.plot(electron_freqs/1e9, delta_c * 1e18, lw=2)\n",
    "plt.xlabel(\"Electron frequency (GHz)\")\n",
    "plt.ylabel(\"Single electron capacitance (aF)\")\n",
    "plt.xlim(electron_freqs.min()/1e9, electron_freqs.max()/1e9)"
   ]
  },
  {
   "cell_type": "markdown",
   "metadata": {},
   "source": [
    "Here we see that \n",
    "\n",
    "- The common mode doesn't couple to the electron\n",
    "- The differential mode shifts order ~10 kHz\n",
    "- When the dot capacitance is low, the circuit can be approximated easily by the simple LC circuit. The dot capacitance is only a perturbation in this case."
   ]
  },
  {
   "cell_type": "code",
   "execution_count": 34,
   "metadata": {},
   "outputs": [
    {
     "data": {
      "text/plain": [
       "2762.066396177411"
      ]
     },
     "execution_count": 34,
     "metadata": {},
     "output_type": "execute_result"
    }
   ],
   "source": [
    "params['c']/params['cdot']"
   ]
  },
  {
   "cell_type": "code",
   "execution_count": null,
   "metadata": {},
   "outputs": [],
   "source": []
  }
 ],
 "metadata": {
  "kernelspec": {
   "display_name": "neon",
   "language": "python",
   "name": "python3"
  },
  "language_info": {
   "codemirror_mode": {
    "name": "ipython",
    "version": 3
   },
   "file_extension": ".py",
   "mimetype": "text/x-python",
   "name": "python",
   "nbconvert_exporter": "python",
   "pygments_lexer": "ipython3",
   "version": "3.11.7"
  }
 },
 "nbformat": 4,
 "nbformat_minor": 2
}
