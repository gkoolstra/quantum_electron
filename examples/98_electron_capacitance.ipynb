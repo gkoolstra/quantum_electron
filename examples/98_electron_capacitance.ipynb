{
 "cells": [
  {
   "cell_type": "code",
   "execution_count": 60,
   "metadata": {},
   "outputs": [
    {
     "name": "stdout",
     "output_type": "stream",
     "text": [
      "quantum_electron 0.2.1\n",
      "numpy 1.24.2\n",
      "scipy 1.11.4\n",
      "matplotlib 3.7.1\n"
     ]
    }
   ],
   "source": [
    "import sympy as sp\n",
    "from sympy import diff, sin, cos, exp, sqrt, Rational, Matrix\n",
    "from quantum_electron import package_versions\n",
    "\n",
    "import numpy as np\n",
    "from matplotlib import pyplot as plt\n",
    "from scipy.constants import electron_mass, elementary_charge\n",
    "\n",
    "import matplotlib\n",
    "matplotlib.rcParams['pdf.fonttype'] = 42\n",
    "matplotlib.rcParams['font.size'] = 8\n",
    "matplotlib.rcParams['font.family'] = 'Arial'\n",
    "\n",
    "package_versions()"
   ]
  },
  {
   "cell_type": "markdown",
   "metadata": {},
   "source": [
    "# Calculation of the electron capacitance"
   ]
  },
  {
   "cell_type": "markdown",
   "metadata": {},
   "source": [
    "In this section, we calculate an analytical expression for the electron eigenfrequencies. These expressions are used to find the capacitance of a single electron. We'll start with the eigensystem for a single electron moving in the 1D plane coupled to an LC resonator. "
   ]
  },
  {
   "cell_type": "code",
   "execution_count": 61,
   "metadata": {},
   "outputs": [],
   "source": [
    "me, e, L, C, alpha, alpha2, omega0, omegae = sp.symbols('m_e e L C α α_2 ω_0, ω_e')"
   ]
  },
  {
   "cell_type": "markdown",
   "metadata": {},
   "source": [
    "The matrix equation that describes the equations of motion is given by \n",
    "$$\n",
    "\\omega^2 [\\mathbf{M}] \\vec{q} = [\\mathbf{K}] \\vec{q},\n",
    "$$\n",
    "and therefore, the eigenvalues of the matrix $[\\mathbf{M}]^{-1}[\\mathbf{K}]$ are the squared eigenfrequencies $\\omega^2$."
   ]
  },
  {
   "cell_type": "code",
   "execution_count": 62,
   "metadata": {},
   "outputs": [],
   "source": [
    "MinvK = Matrix([[1 / (L * C), e * alpha / (L * C)], \n",
    "            [e * alpha / (me * C), omegae ** 2]])"
   ]
  },
  {
   "cell_type": "code",
   "execution_count": 63,
   "metadata": {},
   "outputs": [],
   "source": [
    "evals = MinvK.eigenvals()"
   ]
  },
  {
   "cell_type": "markdown",
   "metadata": {},
   "source": [
    "Since it's a 2x2 matrix, there are 2 eigenvalues. Let's take a look at the first eigenvalue"
   ]
  },
  {
   "cell_type": "code",
   "execution_count": 64,
   "metadata": {},
   "outputs": [
    {
     "data": {
      "text/latex": [
       "$\\displaystyle \\frac{m_{e} ω_{0}^{2} + m_{e} ω_{e}^{2} - ω_{0}^{2} \\sqrt{m_{e} \\left(m_{e} - \\frac{2 m_{e} ω_{e}^{2}}{ω_{0}^{2}} + \\frac{m_{e} ω_{e}^{4}}{ω_{0}^{4}} + \\frac{4 e^{2} α^{2}}{C ω_{0}^{2}}\\right)}}{2 m_{e}}$"
      ],
      "text/plain": [
       "(m_e*ω_0**2 + m_e*ω_e**2 - ω_0**2*sqrt(m_e*(m_e - 2*m_e*ω_e**2/ω_0**2 + m_e*ω_e**4/ω_0**4 + 4*e**2*α**2/(C*ω_0**2))))/(2*m_e)"
      ]
     },
     "execution_count": 64,
     "metadata": {},
     "output_type": "execute_result"
    }
   ],
   "source": [
    "list(evals.keys())[0].subs(L, 1/(omega0**2 * C)).simplify()"
   ]
  },
  {
   "cell_type": "markdown",
   "metadata": {},
   "source": [
    "The second eigenvalue is similar in structure"
   ]
  },
  {
   "cell_type": "code",
   "execution_count": 65,
   "metadata": {},
   "outputs": [
    {
     "data": {
      "text/latex": [
       "$\\displaystyle \\frac{m_{e} ω_{0}^{2} + m_{e} ω_{e}^{2} + ω_{0}^{2} \\sqrt{m_{e} \\left(m_{e} - \\frac{2 m_{e} ω_{e}^{2}}{ω_{0}^{2}} + \\frac{m_{e} ω_{e}^{4}}{ω_{0}^{4}} + \\frac{4 e^{2} α^{2}}{C ω_{0}^{2}}\\right)}}{2 m_{e}}$"
      ],
      "text/plain": [
       "(m_e*ω_0**2 + m_e*ω_e**2 + ω_0**2*sqrt(m_e*(m_e - 2*m_e*ω_e**2/ω_0**2 + m_e*ω_e**4/ω_0**4 + 4*e**2*α**2/(C*ω_0**2))))/(2*m_e)"
      ]
     },
     "execution_count": 65,
     "metadata": {},
     "output_type": "execute_result"
    }
   ],
   "source": [
    "list(evals.keys())[1].subs(L, 1/(omega0**2 * C)).simplify()"
   ]
  },
  {
   "cell_type": "markdown",
   "metadata": {},
   "source": [
    "Next, we may expand these eigenvalues small values of $\\omega_e / \\omega_0$ to arrive at the expression for the electron capacitance."
   ]
  },
  {
   "cell_type": "markdown",
   "metadata": {},
   "source": [
    "# Coupled oscillators"
   ]
  },
  {
   "cell_type": "markdown",
   "metadata": {},
   "source": [
    "In the previous section, we studied the simple LC model and its eigenfrequencies. However, our resonator more closely resembles two coupled LC resonators with a coupling capacitance $C_\\mathrm{dot}$. In this section, we'll study that model and see if we can derive similar analytical expressions for the eigenfrequencies."
   ]
  },
  {
   "cell_type": "code",
   "execution_count": 66,
   "metadata": {},
   "outputs": [],
   "source": [
    "me, e, L, C1, C2, Cdot, D = sp.symbols('m_e e L C_1 C_2 C_dot D', positive=True)\n",
    "alpha_a, alpha_b, Vxx = sp.symbols('α_a α_b V_xx')\n",
    "omega0, omegae = sp.symbols('ω_0 ω_e', positive=True)\n"
   ]
  },
  {
   "cell_type": "markdown",
   "metadata": {},
   "source": [
    "## Single electron"
   ]
  },
  {
   "cell_type": "markdown",
   "metadata": {},
   "source": [
    "Again, we're setting up the equations of motion in matrix form: $\n",
    "\\omega^2 [\\mathbf{M}] \\vec{q} = [\\mathbf{K}] \\vec{q}\n",
    "$.\n",
    "For the coupled LC resonators, there are 2 resonator indices, and 1 electron index, such that the matrix becomes a 3x3 matrix. "
   ]
  },
  {
   "cell_type": "code",
   "execution_count": 67,
   "metadata": {},
   "outputs": [
    {
     "data": {
      "text/latex": [
       "$\\displaystyle \\left[\\begin{matrix}\\frac{1}{L} & 0 & 0\\\\0 & \\frac{1}{L} & 0\\\\0 & 0 & \\frac{1}{m_{e}}\\end{matrix}\\right]$"
      ],
      "text/plain": [
       "Matrix([\n",
       "[1/L,   0,     0],\n",
       "[  0, 1/L,     0],\n",
       "[  0,   0, 1/m_e]])"
      ]
     },
     "execution_count": 67,
     "metadata": {},
     "output_type": "execute_result"
    }
   ],
   "source": [
    "M = Matrix([[L, 0, 0], \n",
    "            [0, L, 0], \n",
    "            [0, 0, me]])\n",
    "\n",
    "M.inv()"
   ]
  },
  {
   "cell_type": "code",
   "execution_count": 68,
   "metadata": {},
   "outputs": [
    {
     "data": {
      "text/latex": [
       "$\\displaystyle \\left[\\begin{matrix}\\frac{C_{2} + C_{dot}}{D} & \\frac{C_{dot}}{D} & \\frac{e α_{a}}{D}\\\\\\frac{C_{dot}}{D} & \\frac{C_{1} + C_{dot}}{D} & \\frac{e α_{b}}{D}\\\\\\frac{e α_{a}}{D} & \\frac{e α_{b}}{D} & V_{xx} e\\end{matrix}\\right]$"
      ],
      "text/plain": [
       "Matrix([\n",
       "[(C_2 + C_dot)/D,         C_dot/D, e*α_a/D],\n",
       "[        C_dot/D, (C_1 + C_dot)/D, e*α_b/D],\n",
       "[        e*α_a/D,         e*α_b/D,  V_xx*e]])"
      ]
     },
     "execution_count": 68,
     "metadata": {},
     "output_type": "execute_result"
    }
   ],
   "source": [
    "K = Matrix([[(C2 + Cdot)/D, Cdot / D, e * alpha_a / D], \n",
    "            [Cdot / D, (C1 + Cdot) / D, e * alpha_b / D], \n",
    "            [e * alpha_a / D, e * alpha_b / D, e * Vxx]])\n",
    "\n",
    "K"
   ]
  },
  {
   "cell_type": "code",
   "execution_count": 69,
   "metadata": {},
   "outputs": [
    {
     "data": {
      "text/latex": [
       "$\\displaystyle \\left[\\begin{matrix}\\frac{C_{2} + C_{dot}}{D L} & \\frac{C_{dot}}{D L} & \\frac{e α_{a}}{D L}\\\\\\frac{C_{dot}}{D L} & \\frac{C_{1} + C_{dot}}{D L} & \\frac{e α_{b}}{D L}\\\\\\frac{e α_{a}}{D m_{e}} & \\frac{e α_{b}}{D m_{e}} & \\frac{V_{xx} e}{m_{e}}\\end{matrix}\\right]$"
      ],
      "text/plain": [
       "Matrix([\n",
       "[(C_2 + C_dot)/(D*L),         C_dot/(D*L), e*α_a/(D*L)],\n",
       "[        C_dot/(D*L), (C_1 + C_dot)/(D*L), e*α_b/(D*L)],\n",
       "[      e*α_a/(D*m_e),       e*α_b/(D*m_e),  V_xx*e/m_e]])"
      ]
     },
     "execution_count": 69,
     "metadata": {},
     "output_type": "execute_result"
    }
   ],
   "source": [
    "MinvK = M.inv() * K\n",
    "MinvK"
   ]
  },
  {
   "cell_type": "markdown",
   "metadata": {},
   "source": [
    "We know that $$V_{xx} = \\frac{\\partial^2 V}{\\partial x^2}$$ is related to the bare electron frequency as follows:\n",
    "\n",
    "$$\n",
    "\\omega^2 = \\frac{e}{m_e} \\frac{\\partial^2 V}{\\partial x^2}\n",
    "$$\n",
    "\n",
    "Therefore, we can substitute for $\\omega_e$ in the lower right corner of the matrix:"
   ]
  },
  {
   "cell_type": "code",
   "execution_count": 70,
   "metadata": {},
   "outputs": [
    {
     "data": {
      "text/latex": [
       "$\\displaystyle \\left[\\begin{matrix}\\frac{C_{2} + C_{dot}}{D L} & \\frac{C_{dot}}{D L} & \\frac{e α_{a}}{D L}\\\\\\frac{C_{dot}}{D L} & \\frac{C_{1} + C_{dot}}{D L} & \\frac{e α_{b}}{D L}\\\\\\frac{e α_{a}}{D m_{e}} & \\frac{e α_{b}}{D m_{e}} & ω_{e}^{2}\\end{matrix}\\right]$"
      ],
      "text/plain": [
       "Matrix([\n",
       "[(C_2 + C_dot)/(D*L),         C_dot/(D*L), e*α_a/(D*L)],\n",
       "[        C_dot/(D*L), (C_1 + C_dot)/(D*L), e*α_b/(D*L)],\n",
       "[      e*α_a/(D*m_e),       e*α_b/(D*m_e),      ω_e**2]])"
      ]
     },
     "execution_count": 70,
     "metadata": {},
     "output_type": "execute_result"
    }
   ],
   "source": [
    "MinvK[2, 2] = omegae**2\n",
    "MinvK"
   ]
  },
  {
   "cell_type": "code",
   "execution_count": 71,
   "metadata": {},
   "outputs": [],
   "source": [
    "evals = MinvK.subs(C1, C).subs(C2, C).eigenvals()"
   ]
  },
  {
   "cell_type": "markdown",
   "metadata": {},
   "source": [
    "Unfortunately for us, the eigenvalues don't look as appetizing as in the simple LC oscillator case. Therefore, we shall resort to numerical modeling."
   ]
  },
  {
   "cell_type": "code",
   "execution_count": 72,
   "metadata": {},
   "outputs": [
    {
     "data": {
      "text/latex": [
       "$\\displaystyle \\frac{2 m_{e}^{\\frac{11}{6}} \\cdot \\left(2 C + 2 C_{dot} + D L ω_{e}^{2}\\right) \\sqrt[3]{27 L m_{e}^{\\frac{9}{2}} \\left(- C^{2} D m_{e} ω_{e}^{2} - 2 C C_{dot} D m_{e} ω_{e}^{2} + C e^{2} α_{a}^{2} + C e^{2} α_{b}^{2} + C_{dot} e^{2} α_{a}^{2} - 2 C_{dot} e^{2} α_{a} α_{b} + C_{dot} e^{2} α_{b}^{2}\\right) - 2 m_{e}^{\\frac{11}{2}} \\left(2 C + 2 C_{dot} + D L ω_{e}^{2}\\right)^{3} + 9 m_{e}^{\\frac{9}{2}} \\cdot \\left(2 C + 2 C_{dot} + D L ω_{e}^{2}\\right) \\left(C^{2} m_{e} + 2 C C_{dot} m_{e} + 2 C D L m_{e} ω_{e}^{2} + 2 C_{dot} D L m_{e} ω_{e}^{2} - L e^{2} α_{a}^{2} - L e^{2} α_{b}^{2}\\right) + m_{e}^{4} \\sqrt{m_{e} \\left(27 L \\left(- C^{2} D m_{e} ω_{e}^{2} - 2 C C_{dot} D m_{e} ω_{e}^{2} + C e^{2} α_{a}^{2} + C e^{2} α_{b}^{2} + C_{dot} e^{2} α_{a}^{2} - 2 C_{dot} e^{2} α_{a} α_{b} + C_{dot} e^{2} α_{b}^{2}\\right) - 2 m_{e} \\left(2 C + 2 C_{dot} + D L ω_{e}^{2}\\right)^{3} + 9 \\cdot \\left(2 C + 2 C_{dot} + D L ω_{e}^{2}\\right) \\left(C^{2} m_{e} + 2 C C_{dot} m_{e} + 2 C D L m_{e} ω_{e}^{2} + 2 C_{dot} D L m_{e} ω_{e}^{2} - L e^{2} α_{a}^{2} - L e^{2} α_{b}^{2}\\right)\\right)^{2} - 4 \\left(- 3 C^{2} m_{e} - 6 C C_{dot} m_{e} - 6 C D L m_{e} ω_{e}^{2} - 6 C_{dot} D L m_{e} ω_{e}^{2} + 3 L e^{2} α_{a}^{2} + 3 L e^{2} α_{b}^{2} + m_{e} \\left(2 C + 2 C_{dot} + D L ω_{e}^{2}\\right)^{2}\\right)^{3}}} + 2 \\cdot \\sqrt[3]{2} m_{e}^{\\frac{8}{3}} \\cdot \\left(3 C^{2} m_{e} + 6 C C_{dot} m_{e} + 6 C D L m_{e} ω_{e}^{2} + 6 C_{dot} D L m_{e} ω_{e}^{2} - 3 L e^{2} α_{a}^{2} - 3 L e^{2} α_{b}^{2} - m_{e} \\left(2 C + 2 C_{dot} + D L ω_{e}^{2}\\right)^{2}\\right) - 2^{\\frac{2}{3}} \\left(27 L m_{e}^{\\frac{9}{2}} \\left(- C^{2} D m_{e} ω_{e}^{2} - 2 C C_{dot} D m_{e} ω_{e}^{2} + C e^{2} α_{a}^{2} + C e^{2} α_{b}^{2} + C_{dot} e^{2} α_{a}^{2} - 2 C_{dot} e^{2} α_{a} α_{b} + C_{dot} e^{2} α_{b}^{2}\\right) - 2 m_{e}^{\\frac{11}{2}} \\left(2 C + 2 C_{dot} + D L ω_{e}^{2}\\right)^{3} + 9 m_{e}^{\\frac{9}{2}} \\cdot \\left(2 C + 2 C_{dot} + D L ω_{e}^{2}\\right) \\left(C^{2} m_{e} + 2 C C_{dot} m_{e} + 2 C D L m_{e} ω_{e}^{2} + 2 C_{dot} D L m_{e} ω_{e}^{2} - L e^{2} α_{a}^{2} - L e^{2} α_{b}^{2}\\right) + m_{e}^{4} \\sqrt{m_{e} \\left(27 L \\left(- C^{2} D m_{e} ω_{e}^{2} - 2 C C_{dot} D m_{e} ω_{e}^{2} + C e^{2} α_{a}^{2} + C e^{2} α_{b}^{2} + C_{dot} e^{2} α_{a}^{2} - 2 C_{dot} e^{2} α_{a} α_{b} + C_{dot} e^{2} α_{b}^{2}\\right) - 2 m_{e} \\left(2 C + 2 C_{dot} + D L ω_{e}^{2}\\right)^{3} + 9 \\cdot \\left(2 C + 2 C_{dot} + D L ω_{e}^{2}\\right) \\left(C^{2} m_{e} + 2 C C_{dot} m_{e} + 2 C D L m_{e} ω_{e}^{2} + 2 C_{dot} D L m_{e} ω_{e}^{2} - L e^{2} α_{a}^{2} - L e^{2} α_{b}^{2}\\right)\\right)^{2} - 4 \\left(- 3 C^{2} m_{e} - 6 C C_{dot} m_{e} - 6 C D L m_{e} ω_{e}^{2} - 6 C_{dot} D L m_{e} ω_{e}^{2} + 3 L e^{2} α_{a}^{2} + 3 L e^{2} α_{b}^{2} + m_{e} \\left(2 C + 2 C_{dot} + D L ω_{e}^{2}\\right)^{2}\\right)^{3}}\\right)^{\\frac{2}{3}}}{6 D L m_{e}^{\\frac{11}{6}} \\sqrt[3]{27 L m_{e}^{\\frac{9}{2}} \\left(- C^{2} D m_{e} ω_{e}^{2} - 2 C C_{dot} D m_{e} ω_{e}^{2} + C e^{2} α_{a}^{2} + C e^{2} α_{b}^{2} + C_{dot} e^{2} α_{a}^{2} - 2 C_{dot} e^{2} α_{a} α_{b} + C_{dot} e^{2} α_{b}^{2}\\right) - 2 m_{e}^{\\frac{11}{2}} \\left(2 C + 2 C_{dot} + D L ω_{e}^{2}\\right)^{3} + 9 m_{e}^{\\frac{9}{2}} \\cdot \\left(2 C + 2 C_{dot} + D L ω_{e}^{2}\\right) \\left(C^{2} m_{e} + 2 C C_{dot} m_{e} + 2 C D L m_{e} ω_{e}^{2} + 2 C_{dot} D L m_{e} ω_{e}^{2} - L e^{2} α_{a}^{2} - L e^{2} α_{b}^{2}\\right) + m_{e}^{4} \\sqrt{m_{e} \\left(27 L \\left(- C^{2} D m_{e} ω_{e}^{2} - 2 C C_{dot} D m_{e} ω_{e}^{2} + C e^{2} α_{a}^{2} + C e^{2} α_{b}^{2} + C_{dot} e^{2} α_{a}^{2} - 2 C_{dot} e^{2} α_{a} α_{b} + C_{dot} e^{2} α_{b}^{2}\\right) - 2 m_{e} \\left(2 C + 2 C_{dot} + D L ω_{e}^{2}\\right)^{3} + 9 \\cdot \\left(2 C + 2 C_{dot} + D L ω_{e}^{2}\\right) \\left(C^{2} m_{e} + 2 C C_{dot} m_{e} + 2 C D L m_{e} ω_{e}^{2} + 2 C_{dot} D L m_{e} ω_{e}^{2} - L e^{2} α_{a}^{2} - L e^{2} α_{b}^{2}\\right)\\right)^{2} - 4 \\left(- 3 C^{2} m_{e} - 6 C C_{dot} m_{e} - 6 C D L m_{e} ω_{e}^{2} - 6 C_{dot} D L m_{e} ω_{e}^{2} + 3 L e^{2} α_{a}^{2} + 3 L e^{2} α_{b}^{2} + m_{e} \\left(2 C + 2 C_{dot} + D L ω_{e}^{2}\\right)^{2}\\right)^{3}}}}$"
      ],
      "text/plain": [
       "(2*m_e**(11/6)*(2*C + 2*C_dot + D*L*ω_e**2)*(27*L*m_e**(9/2)*(-C**2*D*m_e*ω_e**2 - 2*C*C_dot*D*m_e*ω_e**2 + C*e**2*α_a**2 + C*e**2*α_b**2 + C_dot*e**2*α_a**2 - 2*C_dot*e**2*α_a*α_b + C_dot*e**2*α_b**2) - 2*m_e**(11/2)*(2*C + 2*C_dot + D*L*ω_e**2)**3 + 9*m_e**(9/2)*(2*C + 2*C_dot + D*L*ω_e**2)*(C**2*m_e + 2*C*C_dot*m_e + 2*C*D*L*m_e*ω_e**2 + 2*C_dot*D*L*m_e*ω_e**2 - L*e**2*α_a**2 - L*e**2*α_b**2) + m_e**4*sqrt(m_e*(27*L*(-C**2*D*m_e*ω_e**2 - 2*C*C_dot*D*m_e*ω_e**2 + C*e**2*α_a**2 + C*e**2*α_b**2 + C_dot*e**2*α_a**2 - 2*C_dot*e**2*α_a*α_b + C_dot*e**2*α_b**2) - 2*m_e*(2*C + 2*C_dot + D*L*ω_e**2)**3 + 9*(2*C + 2*C_dot + D*L*ω_e**2)*(C**2*m_e + 2*C*C_dot*m_e + 2*C*D*L*m_e*ω_e**2 + 2*C_dot*D*L*m_e*ω_e**2 - L*e**2*α_a**2 - L*e**2*α_b**2))**2 - 4*(-3*C**2*m_e - 6*C*C_dot*m_e - 6*C*D*L*m_e*ω_e**2 - 6*C_dot*D*L*m_e*ω_e**2 + 3*L*e**2*α_a**2 + 3*L*e**2*α_b**2 + m_e*(2*C + 2*C_dot + D*L*ω_e**2)**2)**3))**(1/3) + 2*2**(1/3)*m_e**(8/3)*(3*C**2*m_e + 6*C*C_dot*m_e + 6*C*D*L*m_e*ω_e**2 + 6*C_dot*D*L*m_e*ω_e**2 - 3*L*e**2*α_a**2 - 3*L*e**2*α_b**2 - m_e*(2*C + 2*C_dot + D*L*ω_e**2)**2) - 2**(2/3)*(27*L*m_e**(9/2)*(-C**2*D*m_e*ω_e**2 - 2*C*C_dot*D*m_e*ω_e**2 + C*e**2*α_a**2 + C*e**2*α_b**2 + C_dot*e**2*α_a**2 - 2*C_dot*e**2*α_a*α_b + C_dot*e**2*α_b**2) - 2*m_e**(11/2)*(2*C + 2*C_dot + D*L*ω_e**2)**3 + 9*m_e**(9/2)*(2*C + 2*C_dot + D*L*ω_e**2)*(C**2*m_e + 2*C*C_dot*m_e + 2*C*D*L*m_e*ω_e**2 + 2*C_dot*D*L*m_e*ω_e**2 - L*e**2*α_a**2 - L*e**2*α_b**2) + m_e**4*sqrt(m_e*(27*L*(-C**2*D*m_e*ω_e**2 - 2*C*C_dot*D*m_e*ω_e**2 + C*e**2*α_a**2 + C*e**2*α_b**2 + C_dot*e**2*α_a**2 - 2*C_dot*e**2*α_a*α_b + C_dot*e**2*α_b**2) - 2*m_e*(2*C + 2*C_dot + D*L*ω_e**2)**3 + 9*(2*C + 2*C_dot + D*L*ω_e**2)*(C**2*m_e + 2*C*C_dot*m_e + 2*C*D*L*m_e*ω_e**2 + 2*C_dot*D*L*m_e*ω_e**2 - L*e**2*α_a**2 - L*e**2*α_b**2))**2 - 4*(-3*C**2*m_e - 6*C*C_dot*m_e - 6*C*D*L*m_e*ω_e**2 - 6*C_dot*D*L*m_e*ω_e**2 + 3*L*e**2*α_a**2 + 3*L*e**2*α_b**2 + m_e*(2*C + 2*C_dot + D*L*ω_e**2)**2)**3))**(2/3))/(6*D*L*m_e**(11/6)*(27*L*m_e**(9/2)*(-C**2*D*m_e*ω_e**2 - 2*C*C_dot*D*m_e*ω_e**2 + C*e**2*α_a**2 + C*e**2*α_b**2 + C_dot*e**2*α_a**2 - 2*C_dot*e**2*α_a*α_b + C_dot*e**2*α_b**2) - 2*m_e**(11/2)*(2*C + 2*C_dot + D*L*ω_e**2)**3 + 9*m_e**(9/2)*(2*C + 2*C_dot + D*L*ω_e**2)*(C**2*m_e + 2*C*C_dot*m_e + 2*C*D*L*m_e*ω_e**2 + 2*C_dot*D*L*m_e*ω_e**2 - L*e**2*α_a**2 - L*e**2*α_b**2) + m_e**4*sqrt(m_e*(27*L*(-C**2*D*m_e*ω_e**2 - 2*C*C_dot*D*m_e*ω_e**2 + C*e**2*α_a**2 + C*e**2*α_b**2 + C_dot*e**2*α_a**2 - 2*C_dot*e**2*α_a*α_b + C_dot*e**2*α_b**2) - 2*m_e*(2*C + 2*C_dot + D*L*ω_e**2)**3 + 9*(2*C + 2*C_dot + D*L*ω_e**2)*(C**2*m_e + 2*C*C_dot*m_e + 2*C*D*L*m_e*ω_e**2 + 2*C_dot*D*L*m_e*ω_e**2 - L*e**2*α_a**2 - L*e**2*α_b**2))**2 - 4*(-3*C**2*m_e - 6*C*C_dot*m_e - 6*C*D*L*m_e*ω_e**2 - 6*C_dot*D*L*m_e*ω_e**2 + 3*L*e**2*α_a**2 + 3*L*e**2*α_b**2 + m_e*(2*C + 2*C_dot + D*L*ω_e**2)**2)**3))**(1/3))"
      ]
     },
     "execution_count": 72,
     "metadata": {},
     "output_type": "execute_result"
    }
   ],
   "source": [
    "list(evals.keys())[0].subs(C1, C).subs(C2, C).simplify()"
   ]
  },
  {
   "cell_type": "markdown",
   "metadata": {},
   "source": [
    "## Two electrons"
   ]
  },
  {
   "cell_type": "markdown",
   "metadata": {},
   "source": [
    "For two electrons the matrix becomes a 4x4 matrix: 2 cavity and 2 electron coordinates."
   ]
  },
  {
   "cell_type": "code",
   "execution_count": 73,
   "metadata": {},
   "outputs": [
    {
     "data": {
      "text/latex": [
       "$\\displaystyle \\left[\\begin{matrix}\\frac{1}{L} & 0 & 0 & 0\\\\0 & \\frac{1}{L} & 0 & 0\\\\0 & 0 & \\frac{1}{m_{e}} & 0\\\\0 & 0 & 0 & \\frac{1}{m_{e}}\\end{matrix}\\right]$"
      ],
      "text/plain": [
       "Matrix([\n",
       "[1/L,   0,     0,     0],\n",
       "[  0, 1/L,     0,     0],\n",
       "[  0,   0, 1/m_e,     0],\n",
       "[  0,   0,     0, 1/m_e]])"
      ]
     },
     "execution_count": 73,
     "metadata": {},
     "output_type": "execute_result"
    }
   ],
   "source": [
    "M = Matrix([[L, 0, 0, 0], \n",
    "            [0, L, 0, 0], \n",
    "            [0, 0, me, 0],\n",
    "            [0, 0, 0, me]])\n",
    "\n",
    "M.inv()"
   ]
  },
  {
   "cell_type": "markdown",
   "metadata": {},
   "source": [
    "For a harmonic potential, the electron separation can be expressed in terms of the trap curvature:\n",
    "\n",
    "$$\n",
    "    r_{12}^3 = \\frac{e^2}{2\\pi \\epsilon_0 m_e \\omega_\\mathrm{trap}^2}\n",
    "$$\n",
    "and therefore \n",
    "$$\n",
    "    k_{12}^+ = \\frac{e^2}{4\\pi\\epsilon_0} \\frac{1}{r_{12}^3} = \\frac{m_e \\omega_\\mathrm{trap}^2}{2}\n",
    "$$\n",
    "In addition, for pure parabolic confinement, both electrons have the same frequency set by $\\omega_\\mathrm{trap}^2$."
   ]
  },
  {
   "cell_type": "code",
   "execution_count": 74,
   "metadata": {},
   "outputs": [
    {
     "data": {
      "text/latex": [
       "$\\displaystyle \\left[\\begin{matrix}\\frac{C_{2} + C_{dot}}{D} & \\frac{C_{dot}}{D} & \\frac{e α_{a}}{D} & \\frac{e α_{a}}{D}\\\\\\frac{C_{dot}}{D} & \\frac{C_{1} + C_{dot}}{D} & \\frac{e α_{b}}{D} & \\frac{e α_{b}}{D}\\\\\\frac{e α_{a}}{D} & \\frac{e α_{b}}{D} & 1.5 m_{e} ω_{e}^{2} & - 0.5 m_{e} ω_{e}^{2}\\\\\\frac{e α_{a}}{D} & \\frac{e α_{b}}{D} & - 0.5 m_{e} ω_{e}^{2} & 1.5 m_{e} ω_{e}^{2}\\end{matrix}\\right]$"
      ],
      "text/plain": [
       "Matrix([\n",
       "[(C_2 + C_dot)/D,         C_dot/D,         e*α_a/D,         e*α_a/D],\n",
       "[        C_dot/D, (C_1 + C_dot)/D,         e*α_b/D,         e*α_b/D],\n",
       "[        e*α_a/D,         e*α_b/D,  1.5*m_e*ω_e**2, -0.5*m_e*ω_e**2],\n",
       "[        e*α_a/D,         e*α_b/D, -0.5*m_e*ω_e**2,  1.5*m_e*ω_e**2]])"
      ]
     },
     "execution_count": 74,
     "metadata": {},
     "output_type": "execute_result"
    }
   ],
   "source": [
    "K = Matrix([[(C2 + Cdot)/D, Cdot / D, e * alpha_a / D, e * alpha_a / D], \n",
    "            [Cdot / D, (C1 + Cdot) / D, e * alpha_b / D, e * alpha_b / D], \n",
    "            [e * alpha_a / D, e * alpha_b / D, 3/2 * me * omegae ** 2, -1/2 * me * omegae**2], \n",
    "            [e * alpha_a / D, e * alpha_b / D, -1/2 * me * omegae**2, 3/2 * me * omegae**2]])\n",
    "\n",
    "K"
   ]
  },
  {
   "cell_type": "code",
   "execution_count": 75,
   "metadata": {},
   "outputs": [
    {
     "data": {
      "text/latex": [
       "$\\displaystyle \\left[\\begin{matrix}\\frac{C_{2} + C_{dot}}{D L} & \\frac{C_{dot}}{D L} & \\frac{e α_{a}}{D L} & \\frac{e α_{a}}{D L}\\\\\\frac{C_{dot}}{D L} & \\frac{C_{1} + C_{dot}}{D L} & \\frac{e α_{b}}{D L} & \\frac{e α_{b}}{D L}\\\\\\frac{e α_{a}}{D m_{e}} & \\frac{e α_{b}}{D m_{e}} & 1.5 ω_{e}^{2} & - 0.5 ω_{e}^{2}\\\\\\frac{e α_{a}}{D m_{e}} & \\frac{e α_{b}}{D m_{e}} & - 0.5 ω_{e}^{2} & 1.5 ω_{e}^{2}\\end{matrix}\\right]$"
      ],
      "text/plain": [
       "Matrix([\n",
       "[(C_2 + C_dot)/(D*L),         C_dot/(D*L), e*α_a/(D*L), e*α_a/(D*L)],\n",
       "[        C_dot/(D*L), (C_1 + C_dot)/(D*L), e*α_b/(D*L), e*α_b/(D*L)],\n",
       "[      e*α_a/(D*m_e),       e*α_b/(D*m_e),  1.5*ω_e**2, -0.5*ω_e**2],\n",
       "[      e*α_a/(D*m_e),       e*α_b/(D*m_e), -0.5*ω_e**2,  1.5*ω_e**2]])"
      ]
     },
     "execution_count": 75,
     "metadata": {},
     "output_type": "execute_result"
    }
   ],
   "source": [
    "MinvK = M.inv() * K\n",
    "MinvK"
   ]
  },
  {
   "cell_type": "markdown",
   "metadata": {},
   "source": [
    "## Eigenfrequencies without the electron"
   ]
  },
  {
   "cell_type": "markdown",
   "metadata": {},
   "source": [
    "To verify the eigenfrequencies of the coupled model we briefly eliminate the electron from the matrix, and calculate the eigenvalues:"
   ]
  },
  {
   "cell_type": "code",
   "execution_count": 153,
   "metadata": {},
   "outputs": [],
   "source": [
    "evals = MinvK[:2, :2].eigenvals()"
   ]
  },
  {
   "cell_type": "markdown",
   "metadata": {},
   "source": [
    "We find that $\\omega_\\mathrm{diff}^2$ is given by"
   ]
  },
  {
   "cell_type": "code",
   "execution_count": 154,
   "metadata": {},
   "outputs": [
    {
     "data": {
      "text/latex": [
       "$\\displaystyle \\frac{1}{L \\left(C + 2 C_{dot}\\right)}$"
      ],
      "text/plain": [
       "1/(L*(C + 2*C_dot))"
      ]
     },
     "execution_count": 154,
     "metadata": {},
     "output_type": "execute_result"
    }
   ],
   "source": [
    "list(evals.keys())[0].subs(C1, C).subs(C2, C).subs(D, C**2 + 2*C*Cdot).simplify()"
   ]
  },
  {
   "cell_type": "markdown",
   "metadata": {},
   "source": [
    "and similarly $\\omega_\\mathrm{comm}^2$ is given by"
   ]
  },
  {
   "cell_type": "code",
   "execution_count": 155,
   "metadata": {},
   "outputs": [
    {
     "data": {
      "text/latex": [
       "$\\displaystyle \\frac{1}{C L}$"
      ],
      "text/plain": [
       "1/(C*L)"
      ]
     },
     "execution_count": 155,
     "metadata": {},
     "output_type": "execute_result"
    }
   ],
   "source": [
    "list(evals.keys())[1].subs(C1, C).subs(C2, C).subs(D, C**2 + 2*C*Cdot).simplify()"
   ]
  },
  {
   "cell_type": "markdown",
   "metadata": {},
   "source": [
    "## Numerical explorations of the coupled LC oscillator model"
   ]
  },
  {
   "cell_type": "markdown",
   "metadata": {},
   "source": [
    "We'll use some of the expressions derived above in this section, so please refer to those sections, in particular for the derivation of the matrix $[\\mathbf{M}]^{-1}[\\mathbf{K}]$.\n",
    "The following function will allow us to diagonalize this matrix to find the eigenfrequencies. "
   ]
  },
  {
   "cell_type": "code",
   "execution_count": 90,
   "metadata": {},
   "outputs": [],
   "source": [
    "def single_e_system(c, cdot, l, omega_trap, alpha_plus_prime, alpha_minus_prime):\n",
    "    c1 = c\n",
    "    c2 = c\n",
    "    d = c1 * c2 + cdot * c1 + c2 * cdot\n",
    "\n",
    "    alpha_a = (c2 + cdot) * alpha_plus_prime + cdot * alpha_minus_prime\n",
    "    alpha_b = (c1 + cdot) * alpha_minus_prime + cdot * alpha_plus_prime\n",
    "    \n",
    "    minvk = np.array([[(c2 + cdot) / (d * l), cdot / (d * l), elementary_charge * alpha_a / (d * l)], \n",
    "                      [cdot / (d * l), (c1 + cdot) / (d * l), elementary_charge * alpha_b / (d * l)], \n",
    "                      [elementary_charge * alpha_a / (d * electron_mass), elementary_charge * alpha_b / (d * electron_mass), omega_trap ** 2]])\n",
    "    \n",
    "    evals, evecs = np.linalg.eig(minvk)\n",
    "    efreqs = np.sqrt(evals) / (2 * np.pi )\n",
    "    \n",
    "    return efreqs\n",
    "\n",
    "def double_e_system(c, cdot, l, omega_trap, alpha_plus_prime, alpha_minus_prime):\n",
    "    c1 = c\n",
    "    c2 = c\n",
    "    d = c1 * c2 + cdot * c1 + c2 * cdot\n",
    "\n",
    "    alpha_a = (c2 + cdot) * alpha_plus_prime + cdot * alpha_minus_prime\n",
    "    alpha_b = (c1 + cdot) * alpha_minus_prime + cdot * alpha_plus_prime\n",
    "    \n",
    "    minvk = np.array([[(c2 + cdot) / (d * l), cdot / (d * l), elementary_charge * alpha_a / (d * l), elementary_charge * alpha_a / (d * l)], \n",
    "                      [cdot / (d * l), (c1 + cdot) / (d * l), elementary_charge * alpha_b / (d * l), elementary_charge * alpha_b / (d * l)], \n",
    "                      [elementary_charge * alpha_a / (d * electron_mass), elementary_charge * alpha_b / (d * electron_mass), 3/2*omega_trap ** 2, -1/2*omega_trap ** 2], \n",
    "                      [elementary_charge * alpha_a / (d * electron_mass), elementary_charge * alpha_b / (d * electron_mass), -1/2*omega_trap ** 2, 3/2*omega_trap ** 2]])\n",
    "    \n",
    "    evals, evecs = np.linalg.eig(minvk)\n",
    "    efreqs = np.sqrt(evals) / (2 * np.pi )\n",
    "    \n",
    "    return efreqs"
   ]
  },
  {
   "cell_type": "code",
   "execution_count": 91,
   "metadata": {},
   "outputs": [
    {
     "data": {
      "text/latex": [
       "$\\displaystyle \\left[\\begin{matrix}\\frac{C_{2} + C_{dot}}{D L} & \\frac{C_{dot}}{D L} & \\frac{e α_{a}}{D L} & \\frac{e α_{a}}{D L}\\\\\\frac{C_{dot}}{D L} & \\frac{C_{1} + C_{dot}}{D L} & \\frac{e α_{b}}{D L} & \\frac{e α_{b}}{D L}\\\\\\frac{e α_{a}}{D m_{e}} & \\frac{e α_{b}}{D m_{e}} & 1.5 ω_{e}^{2} & - 0.5 ω_{e}^{2}\\\\\\frac{e α_{a}}{D m_{e}} & \\frac{e α_{b}}{D m_{e}} & - 0.5 ω_{e}^{2} & 1.5 ω_{e}^{2}\\end{matrix}\\right]$"
      ],
      "text/plain": [
       "Matrix([\n",
       "[(C_2 + C_dot)/(D*L),         C_dot/(D*L), e*α_a/(D*L), e*α_a/(D*L)],\n",
       "[        C_dot/(D*L), (C_1 + C_dot)/(D*L), e*α_b/(D*L), e*α_b/(D*L)],\n",
       "[      e*α_a/(D*m_e),       e*α_b/(D*m_e),  1.5*ω_e**2, -0.5*ω_e**2],\n",
       "[      e*α_a/(D*m_e),       e*α_b/(D*m_e), -0.5*ω_e**2,  1.5*ω_e**2]])"
      ]
     },
     "execution_count": 91,
     "metadata": {},
     "output_type": "execute_result"
    }
   ],
   "source": [
    "MinvK"
   ]
  },
  {
   "cell_type": "markdown",
   "metadata": {},
   "source": [
    "A quick example of how to use this. Let's say experimentally we have a resonator with measured differential frequency `f0_diff` and expected impedance `Z0_diff`. The cell below calculates the inductance and capacitances consistent with these inputs.\n",
    "Note that `alpha_plus_prime` and `alpha_minus_prime` are $\\partial \\alpha_\\mathrm{res}^a /\\partial x$ and $\\partial \\alpha_\\mathrm{res}^b /\\partial x$, respectively. These are the values of the electric field when 1 V is applied to the top and bottom electrodes of the resonator, respectively."
   ]
  },
  {
   "cell_type": "code",
   "execution_count": 92,
   "metadata": {},
   "outputs": [
    {
     "data": {
      "text/plain": [
       "array([2.00000008e+10, 5.75799708e+09, 5.95516860e+09])"
      ]
     },
     "execution_count": 92,
     "metadata": {},
     "output_type": "execute_result"
    }
   ],
   "source": [
    "f0_diff = 5.758e9\n",
    "Z0_diff = 180 #120\n",
    "\n",
    "omega0 = 2 * np.pi * f0_diff\n",
    "cdot = 0.05e-13\n",
    "l = Z0_diff / omega0\n",
    "c = 1 / (omega0 ** 2 * l) - 2 * cdot\n",
    "assert c > 0, \"The calculated capacitance must be > 0\"\n",
    "\n",
    "params = {\"c\" : c,\n",
    "          \"cdot\" : cdot, \n",
    "          \"l\" : l, \n",
    "          \"omega_trap\" : 2 * np.pi * 20e9, \n",
    "          \"alpha_plus_prime\" : 0.2e6, \n",
    "          \"alpha_minus_prime\" : -0.2e6}\n",
    "\n",
    "efreqs = single_e_system(**params)\n",
    "efreqs"
   ]
  },
  {
   "cell_type": "code",
   "execution_count": 93,
   "metadata": {},
   "outputs": [
    {
     "data": {
      "text/plain": [
       "180.0"
      ]
     },
     "execution_count": 93,
     "metadata": {},
     "output_type": "execute_result"
    }
   ],
   "source": [
    "np.sqrt(params['l'] / (params['c'] + 2*params['cdot']))"
   ]
  },
  {
   "cell_type": "markdown",
   "metadata": {},
   "source": [
    "The common and differential modde frequencies are identified far away from the electron crossings, and they are:"
   ]
  },
  {
   "cell_type": "code",
   "execution_count": 94,
   "metadata": {},
   "outputs": [
    {
     "name": "stdout",
     "output_type": "stream",
     "text": [
      "Common mode: 5.955 GHz, Differential mode: 5.758 GHz\n"
     ]
    }
   ],
   "source": [
    "f_comm = np.sqrt(1 / (params['l'] * (params['c']))) / (2 * np.pi )\n",
    "f_diff = np.sqrt(1 / (params['l'] * (params['c'] + 2 * params[\"cdot\"]))) / (2 * np.pi )\n",
    "\n",
    "print(f\"Common mode: {f_comm/1e9:.3f} GHz, Differential mode: {f_diff/1e9:.3f} GHz\")"
   ]
  },
  {
   "cell_type": "markdown",
   "metadata": {},
   "source": [
    "## Resonant coupling of a single electron "
   ]
  },
  {
   "cell_type": "markdown",
   "metadata": {},
   "source": [
    "Let us check that the model makes sense. First, when `alpha_plus_prime = -alpha_minus_prime`, the electron shouldn't couple to the common mode of the resonator."
   ]
  },
  {
   "cell_type": "code",
   "execution_count": 134,
   "metadata": {},
   "outputs": [
    {
     "name": "stdout",
     "output_type": "stream",
     "text": [
      "2g/2π =  25.40868760734844 MHz\n",
      "2g/2π =  101.63465477428723 MHz\n"
     ]
    },
    {
     "data": {
      "image/png": "[encoded data removed]",
      "text/plain": [
       "<Figure size 320x200 with 1 Axes>"
      ]
     },
     "metadata": {},
     "output_type": "display_data"
    }
   ],
   "source": [
    "electron_freqs = np.linspace(5.5e9, 6.2e9, 5001)\n",
    "\n",
    "eigenfrequencies = np.zeros((len(electron_freqs), 3))\n",
    "\n",
    "fig = plt.figure(figsize=(3.2, 2.))\n",
    "\n",
    "for Ex, color in zip([0.25e6, 1e6], ['gray', 'black']):\n",
    "    f0_diff = 5.758e9\n",
    "    Z0_diff = 200\n",
    "\n",
    "    omega0 = 2 * np.pi * f0_diff\n",
    "    cdot = 0.5e-14\n",
    "    l = Z0_diff / omega0\n",
    "    \n",
    "    params = {\"c\" : 1 / (omega0 ** 2 * l) - 2 * cdot,\n",
    "              \"cdot\" : cdot, \n",
    "              \"l\" : l, \n",
    "              \"omega_trap\" : 2 * np.pi * 20e9, \n",
    "              \"alpha_plus_prime\" : Ex, \n",
    "              \"alpha_minus_prime\" : -Ex}\n",
    "\n",
    "    for k, f_e in enumerate(electron_freqs):\n",
    "        params[\"omega_trap\"] = 2 * np.pi * f_e\n",
    "        efreqs = single_e_system(**params)\n",
    "\n",
    "        eigenfrequencies[k] = np.sort(efreqs)\n",
    "\n",
    "    for k in range(3):\n",
    "        label = \"\" if k == 0 else f\"Ex = {Ex/1e6}V/$\\mu$m\"\n",
    "        plt.plot(electron_freqs /1e9, eigenfrequencies[:, k] /1e9, color=color, label=label)\n",
    "\n",
    "    # Estimate 2 * g from the minimum distance.\n",
    "    print(\"2g/2π = \", np.min(eigenfrequencies[:, 1] - eigenfrequencies[:, 0]) / 1e6, \"MHz\")\n",
    "\n",
    "    plt.xlabel(\"Electron frequency (GHz)\")\n",
    "    plt.ylabel(\"Eigenfrequencies (GHz)\")\n",
    "    plt.xlim(electron_freqs.min() / 1e9, electron_freqs.max() /1e9)\n",
    "    # plt.legend(loc=0, frameon=False)"
   ]
  },
  {
   "cell_type": "markdown",
   "metadata": {},
   "source": [
    "Indeed, we see that the common mode doesn't have an avoided crossing, whereas the differential mode has an avoided crossing that tunes with the value of `alpha_minus_prime`. \n",
    "\n",
    "We determined the apparent $g$ from the avoided crossing, but does this value of $g/2\\pi$ make sense? For a simple LC circuit we found $g_\\mathrm{LC}$, which is given by \n",
    "\n",
    "$$\n",
    "    g_\\mathrm{LC} = \\frac{1}{2} e E_x \\sqrt{\\frac{Z}{m_e \\omega_e}}\n",
    "$$\n",
    "\n",
    "However, for coupling to the differential mode, the coupling is given by\n",
    "\n",
    "$$\n",
    "    g_\\mathrm{coupled} = \\frac{1}{2} e \\tilde{E_x} \\sqrt{\\frac{Z}{m_e \\omega_e}}, \n",
    "$$\n",
    "\n",
    "where \n",
    "\n",
    "$$\n",
    "    \\tilde{E_x} = \\sqrt{2} \\left( \\frac{1}{2} \\frac{\\partial \\alpha_\\mathrm{res}^a}{\\partial x} - \\frac{1}{2} \\frac{\\partial \\alpha_\\mathrm{res}^b}{\\partial x} \\right)\n",
    "$$\n",
    "and therefore $g_\\mathrm{coupled} = \\sqrt{2} g_\\mathrm{LC}$. The $\\sqrt{2}$ enhancement of $g$ compared with the simple LC circuit comes from the enhancement in zero-point fluctuations."
   ]
  },
  {
   "cell_type": "code",
   "execution_count": 137,
   "metadata": {},
   "outputs": [
    {
     "name": "stdout",
     "output_type": "stream",
     "text": [
      "For Ex = 0.25 V/µm, we expect 2g/2π =  25.4 MHz\n",
      "For Ex = 1.00 V/µm, we expect 2g/2π =  101.6 MHz\n"
     ]
    }
   ],
   "source": [
    "for Ex in [0.25e6, 1e6]:\n",
    "    Ex_tilde = np.sqrt(2) * (Ex - -Ex) / 2\n",
    "    print(f\"For Ex = {Ex/1e6:0.2f} V/µm, we expect 2g/2π = {2 * 1e-6 * 0.5 * elementary_charge * Ex_tilde * np.sqrt(Z0_diff * 2 * np.pi * f0_diff / electron_mass) / (2 * np.pi) : .1f} MHz\")"
   ]
  },
  {
   "cell_type": "markdown",
   "metadata": {},
   "source": [
    "## Electron counting in the dispersive regime"
   ]
  },
  {
   "cell_type": "markdown",
   "metadata": {},
   "source": [
    "To count electrons, we don't have to be resonant with the resonator. Let us calculate the frequency shifts for one and two electrons in the dispersive regime."
   ]
  },
  {
   "cell_type": "code",
   "execution_count": 138,
   "metadata": {},
   "outputs": [
    {
     "name": "stdout",
     "output_type": "stream",
     "text": [
      "Common mode: 5.717 GHz, Differential mode: 5.717 GHz\n"
     ]
    }
   ],
   "source": [
    "# Note, a factor of pi/2 accounts for the distributed nature of the capacitance to gnd, inductance and shunt capacitance.\n",
    "params = {\"c\" : 0.25e-12, #2 * 20e-15 / np.pi,\n",
    "          \"cdot\" : 0.02e-15, # + 3e-15 / np.pi, \n",
    "          \"l\" : 3.1e-9,#2 * 100e-9 / np.pi, \n",
    "          \"omega_trap\" : 2 * np.pi * 20e9, \n",
    "          \"alpha_plus_prime\" : 0.24e6, \n",
    "          \"alpha_minus_prime\" : -0.24e6}\n",
    "\n",
    "f0_comm = np.sqrt(1 / (params['l'] * (params['c']))) / (2 * np.pi )\n",
    "f0_diff = np.sqrt(1 / (params['l'] * (params['c'] + 2 * params[\"cdot\"]))) / (2 * np.pi )\n",
    "\n",
    "print(f\"Common mode: {f0_comm/1e9:.3f} GHz, Differential mode: {f0_diff/1e9:.3f} GHz\")"
   ]
  },
  {
   "cell_type": "markdown",
   "metadata": {},
   "source": [
    "We compare the results of the diagonalization with the shift for a simple LC circuit.\n",
    "\n",
    "For $n=1$ this shift is given by $\\Delta f = g^2 / \\Delta$, where we have to take the appropriate $g = g_\\mathrm{coupled} = \\sqrt{2} g_\\mathrm{LC}$. Alternatively, we can rewrite this dispersive shift in a capacitance change as \n",
    "\n",
    "$$\n",
    "    \\delta C = \\frac{e^2}{m_e (\\omega_e^2 - \\omega_0^2)} \\tilde{E}_x^2\n",
    "$$\n",
    "where consistent with the previous section we have\n",
    "$$\n",
    "    \\tilde{E_x} = \\sqrt{2} \\left( \\frac{1}{2} \\frac{\\partial \\alpha_\\mathrm{res}^a}{\\partial x} - \\frac{1}{2} \\frac{\\partial \\alpha_\\mathrm{res}^b}{\\partial x} \\right).\n",
    "$$\n",
    "\n",
    "For two electrons in the dot, the frequency shift is twice as large."
   ]
  },
  {
   "cell_type": "code",
   "execution_count": 140,
   "metadata": {},
   "outputs": [
    {
     "data": {
      "text/plain": [
       "Text(0, 0.5, 'Frequency shift (kHz)')"
      ]
     },
     "execution_count": 140,
     "metadata": {},
     "output_type": "execute_result"
    },
    {
     "data": {
      "image/png": "[encoded data removed]",
      "text/plain": [
       "<Figure size 500x200 with 2 Axes>"
      ]
     },
     "metadata": {},
     "output_type": "display_data"
    }
   ],
   "source": [
    "trap_curvatures = np.linspace(10e9, 30e9, 5001)\n",
    "\n",
    "eigenfrequencies_single_e = np.zeros((len(electron_freqs), 3))\n",
    "eigenfrequencies_double_e = np.zeros((len(electron_freqs), 4))\n",
    "\n",
    "# Sweep the electron frequency\n",
    "for k, f_e in enumerate(trap_curvatures):\n",
    "    params[\"omega_trap\"] = 2 * np.pi * f_e\n",
    "    eigenfrequencies_single_e[k] = np.sort(single_e_system(**params))\n",
    "    eigenfrequencies_double_e[k] = np.sort(double_e_system(**params))\n",
    "\n",
    "fig, ax = plt.subplots(1, 2, figsize=(5, 2))\n",
    "\n",
    "# And from here we calculate the frequency shifts (measured from the bare values)\n",
    "ax[0].axhline(0, linestyle='-', lw=2, color='tab:blue', label='n = 0')\n",
    "ax[0].plot(trap_curvatures/1e9, 1e-3 * (eigenfrequencies_single_e[:, 0] - f0_diff), color='tab:purple', label='n = 1', lw=2)\n",
    "ax[0].plot(trap_curvatures/1e9, 1e-3 * (eigenfrequencies_double_e[:, 0] - f0_diff), color='tab:orange', label='n = 2', lw=2)\n",
    "ax[0].set_title(\"Differential mode\")\n",
    "\n",
    "ax[1].axhline(0, linestyle='-', lw=2, color='tab:blue', label='n = 0')\n",
    "ax[1].plot(trap_curvatures/1e9, 1e-3 * (eigenfrequencies_single_e[:, 1] - f0_comm), color='tab:purple', label='n = 1', lw=2)\n",
    "ax[1].plot(trap_curvatures/1e9, 1e-3 * (eigenfrequencies_double_e[:, 1] - f0_comm), color='tab:orange', label='n = 2', lw=2)\n",
    "ax[1].set_title(\"Common mode\")\n",
    "\n",
    "# Calculation of the capacitance change from the dispersive shift of the differential mode.\n",
    "# The expression comes from a simple LC model, but if the resonance frequency shifts agree then this expression should be valid.\n",
    "total_capacitance = params['c'] + 2 * params['cdot']\n",
    "Ex_tilde = np.sqrt(2) * (0.5 * params['alpha_plus_prime'] - 0.5 * params['alpha_minus_prime'])\n",
    "delta_c = elementary_charge ** 2 / (electron_mass * (2 * np.pi) ** 2 * (trap_curvatures ** 2 - f0_diff ** 2)) * Ex_tilde ** 2\n",
    "simple_lc_shift = -f0_diff * 0.5 * delta_c / total_capacitance\n",
    "\n",
    "ax[0].plot(trap_curvatures/1e9, 1e-3* simple_lc_shift, '--', color='black', label=\"Simple LC circuit\")\n",
    "ax[0].plot(trap_curvatures/1e9, 2*1e-3* simple_lc_shift, '--', color='black', label=\"\")\n",
    "\n",
    "for k in [0, 1]:\n",
    "    ax[k].set_ylim([-30, 1])\n",
    "    ax[k].set_xlabel(\"Dot curvature (GHz)\")\n",
    "    ax[k].set_xlim(trap_curvatures.min()/1e9, trap_curvatures.max()/1e9)\n",
    "    ax[k].legend(loc=4, frameon=False)\n",
    "\n",
    "ax[0].set_ylabel(\"Frequency shift (kHz)\")"
   ]
  },
  {
   "cell_type": "code",
   "execution_count": 152,
   "metadata": {},
   "outputs": [
    {
     "data": {
      "text/plain": [
       "([<matplotlib.axis.XTick at 0x14d826d90>,\n",
       "  <matplotlib.axis.XTick at 0x14d825a90>,\n",
       "  <matplotlib.axis.XTick at 0x14d7841d0>],\n",
       " [Text(0, 0, '0'), Text(1, 0, '1'), Text(2, 0, '2')])"
      ]
     },
     "execution_count": 152,
     "metadata": {},
     "output_type": "execute_result"
    },
    {
     "data": {
      "image/png": "[encoded data removed]",
      "text/plain": [
       "<Figure size 320x200 with 1 Axes>"
      ]
     },
     "metadata": {},
     "output_type": "display_data"
    }
   ],
   "source": [
    "trap_curv_freq = 25e9\n",
    "\n",
    "shifts_kHz = [0, \n",
    "              1e-3 * (eigenfrequencies_single_e[np.argmin(np.abs(trap_curv_freq - trap_curvatures)), 0] - f0_diff), \n",
    "              1e-3 * (eigenfrequencies_double_e[np.argmin(np.abs(trap_curv_freq - trap_curvatures)), 0] - f0_diff)]\n",
    "              \n",
    "plt.figure(figsize=(3.2, 2))\n",
    "plt.bar(range(3), shifts_kHz, color=['tab:blue', 'tab:purple', 'tab:orange'], width=0.4)\n",
    "plt.xlabel(\"Number of trapped electrons $n$\")\n",
    "plt.ylabel(f\"Frequency shift at {trap_curv_freq/1e9:.1f} GHz (kHz)\")\n",
    "plt.xticks(range(3))"
   ]
  },
  {
   "cell_type": "markdown",
   "metadata": {},
   "source": [
    "Here we see that \n",
    "\n",
    "- The common mode doesn't couple to the electron(s)\n",
    "- The differential mode shifts order ~10 kHz\n",
    "- When the dot capacitance is low, the circuit can be approximated easily by the simple LC circuit. The dot capacitance is only a perturbation in this case."
   ]
  },
  {
   "cell_type": "code",
   "execution_count": 144,
   "metadata": {},
   "outputs": [
    {
     "data": {
      "text/plain": [
       "(10.0, 30.0)"
      ]
     },
     "execution_count": 144,
     "metadata": {},
     "output_type": "execute_result"
    },
    {
     "data": {
      "image/png": "[encoded data removed]",
      "text/plain": [
       "<Figure size 320x200 with 1 Axes>"
      ]
     },
     "metadata": {},
     "output_type": "display_data"
    }
   ],
   "source": [
    "fig = plt.figure(figsize=(3.2,2))\n",
    "plt.plot(trap_curvatures/1e9, delta_c * 1e18, lw=2)\n",
    "plt.xlabel(\"Electron frequency (GHz)\")\n",
    "plt.ylabel(\"Single electron capacitance (aF)\")\n",
    "plt.xlim(trap_curvatures.min()/1e9, trap_curvatures.max()/1e9)"
   ]
  },
  {
   "cell_type": "markdown",
   "metadata": {},
   "source": [
    "## Effect of the dot capacitance"
   ]
  },
  {
   "cell_type": "markdown",
   "metadata": {},
   "source": [
    "To separate the common and differential mode, we need some cross-capacitance (non-zero $C_\\mathrm{dot}$). However, this capacitance also lowers the impedance, and thus there is a trade-off. How much capacitance do we need to achieve a good separation between the common and differential modes? Let's find out:"
   ]
  },
  {
   "cell_type": "code",
   "execution_count": 141,
   "metadata": {},
   "outputs": [
    {
     "data": {
      "text/plain": [
       "<matplotlib.legend.Legend at 0x14bae6c90>"
      ]
     },
     "execution_count": 141,
     "metadata": {},
     "output_type": "execute_result"
    },
    {
     "data": {
      "image/png": "[encoded data removed]",
      "text/plain": [
       "<Figure size 320x200 with 1 Axes>"
      ]
     },
     "metadata": {},
     "output_type": "display_data"
    }
   ],
   "source": [
    "# Note, a factor of pi/2 accounts for the distributed nature of the capacitance to gnd, inductance and shunt capacitance.\n",
    "params = {\"c\" : 2 * 20e-15 / np.pi,\n",
    "          \"cdot\" : 0.0, \n",
    "          \"l\" : 2 * 100e-9 / np.pi, \n",
    "          \"omega_e\" : 2 * np.pi * 20e9, \n",
    "          \"alpha_plus_prime\" : 0.2e6, \n",
    "          \"alpha_minus_prime\" : -0.2e6}\n",
    "\n",
    "Cshunt = np.logspace(-18, -14)\n",
    "f0_comms = np.zeros(len(Cshunt))\n",
    "f0_diffs = np.zeros(len(Cshunt))\n",
    "\n",
    "for k, c_s in enumerate(Cshunt):\n",
    "    params['cdot'] = 2 * c_s / np.pi\n",
    "    f0_comms[k] = np.sqrt(1 / (params['l'] * (params['c']))) / (2 * np.pi )\n",
    "    f0_diffs[k] = np.sqrt(1 / (params['l'] * (params['c'] + 2 * params[\"cdot\"]))) / (2 * np.pi )\n",
    "\n",
    "fig = plt.figure(figsize=(3.2, 2))\n",
    "plt.plot(Cshunt * 1e15, f0_comms / 1e9, color='tab:purple', label='Common mode')\n",
    "plt.plot(Cshunt * 1e15, f0_diffs / 1e9, color='tab:orange', label='Differential mode')\n",
    "plt.plot(Cshunt * 1e15, (f0_comms - f0_comms * Cshunt * 2 / np.pi / (params[\"c\"] + 2 * Cshunt * 2  / np.pi)) / 1e9, '--k', lw=1)\n",
    "plt.xlabel(\"Shunt capacitance $C_s$ (fF)\")\n",
    "plt.xscale('log')\n",
    "plt.ylabel(\"Resonance frequency (GHz)\")\n",
    "plt.legend(loc=0, frameon=False)\n",
    "\n",
    "# Interesting story: For high impedance you want low capacitance, but you need some capacitance to split the common and differential mode.\n",
    "# If the shunt cap is much smaller than the total capacitance, alpha << 1, then the splitting is given by alpha * f0 =  cdot * f0 / c + 2 cdot "
   ]
  }
 ],
 "metadata": {
  "kernelspec": {
   "display_name": "neon",
   "language": "python",
   "name": "python3"
  },
  "language_info": {
   "codemirror_mode": {
    "name": "ipython",
    "version": 3
   },
   "file_extension": ".py",
   "mimetype": "text/x-python",
   "name": "python",
   "nbconvert_exporter": "python",
   "pygments_lexer": "ipython3",
   "version": "3.11.7"
  }
 },
 "nbformat": 4,
 "nbformat_minor": 2
}
